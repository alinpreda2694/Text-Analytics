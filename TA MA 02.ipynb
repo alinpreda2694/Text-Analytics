{
 "cells": [
  {
   "cell_type": "markdown",
   "metadata": {},
   "source": [
    "## Text Analytics\n",
    "# Mandatory Assignment no. 2\n",
    "### Student: Alin-Cristian Preda\n",
    "#### Copenhagen Business School, 2019"
   ]
  },
  {
   "cell_type": "code",
   "execution_count": 1,
   "metadata": {},
   "outputs": [],
   "source": [
    "# PANDAS\n",
    "import pandas as pd \n",
    "# SYS \n",
    "import sys\n",
    "# SKLEARN \n",
    "from sklearn import metrics\n",
    "from sklearn.feature_extraction.text import CountVectorizer\n",
    "from sklearn.feature_extraction.text import TfidfTransformer\n",
    "from sklearn.model_selection import GridSearchCV\n",
    "from sklearn.naive_bayes import MultinomialNB\n",
    "from sklearn.linear_model import LogisticRegression\n",
    "from sklearn.pipeline import Pipeline\n",
    "from sklearn.metrics import accuracy_score\n",
    "from sklearn.model_selection import train_test_split\n",
    "# COLLECTIONS\n",
    "from collections import Counter\n",
    "# NLTK \n",
    "import nltk\n",
    "from nltk.corpus import stopwords \n",
    "from nltk.classify.scikitlearn import SklearnClassifier\n",
    "from nltk.corpus.reader import CategorizedPlaintextCorpusReader\n",
    "# RANDOM\n",
    "import random\n",
    "# PRETTY TABLE \n",
    "from prettytable import PrettyTable\n",
    "# TEXTWRAP\n",
    "import textwrap \n",
    "# MATPLOTLIB\n",
    "import matplotlib.pyplot as plt"
   ]
  },
  {
   "cell_type": "markdown",
   "metadata": {},
   "source": [
    "## Introduction\n",
    "\n",
    "\"\"\"\n",
    "\n",
    "#### Method\n",
    "Naïve Bayes is a classification method based on Bayes’ theorem that derives the probability of the given feature vector being associated with a label. Naïve Bayes has a naive assumption of conditional independence for every feature, which means that the algorithm expects the features to be independent which not always is the case.\n",
    "\n",
    "Logistic regression is a linear classification method that learns the probability of a sample belonging to a certain class. Logistic regression tries to find the optimal decision boundary that best separates the classes.\n",
    "\n",
    "#### Learning mechanisms \n",
    "The learning mechanism is a bit different between the two models, where Naive Bayes is a generative model and Logistic regression is a discriminative model. What does this mean?\n",
    "\n",
    "Generative model: Naive Bayes models the joint distribution of the feature X (or d) and target Y (or c), and then predicts the posterior probability given as P(y|x)\n",
    "\n",
    "Discriminative model: Logistic regression directly models the posterior probability of P(y|x) by learning the input to output mapping by minimising the error.\n",
    "\n",
    "#### Assumptions\n",
    "Naïve Bayes assumes all the features to be conditionally independent. So, if some of the features are in fact dependent on each other (in case of a large feature space), the prediction might be poor.\n",
    "Logistic regression splits feature space linearly, and typically works reasonably well even when some of the variables are correlated.\n",
    "\n",
    "#### Tips for improvement\n",
    "Naïve Bayes: When the training data size is small relative to the number of features, the information/data on prior probabilities help in improving the results\n",
    "Logistic regression: When the training data size is small relative to the number of features, including regularisation such as Lasso and Ridge regression can help reduce overfitting and result in a more generalised model.\n",
    "\n",
    "\"\"\"\n",
    "\n",
    "https://dataespresso.com/en/2017/10/24/comparison-between-naive-bayes-and-logistic-regression/"
   ]
  },
  {
   "cell_type": "code",
   "execution_count": 2,
   "metadata": {},
   "outputs": [
    {
     "data": {
      "text/html": [
       "<div>\n",
       "<style scoped>\n",
       "    .dataframe tbody tr th:only-of-type {\n",
       "        vertical-align: middle;\n",
       "    }\n",
       "\n",
       "    .dataframe tbody tr th {\n",
       "        vertical-align: top;\n",
       "    }\n",
       "\n",
       "    .dataframe thead th {\n",
       "        text-align: right;\n",
       "    }\n",
       "</style>\n",
       "<table border=\"1\" class=\"dataframe\">\n",
       "  <thead>\n",
       "    <tr style=\"text-align: right;\">\n",
       "      <th></th>\n",
       "      <th>No</th>\n",
       "      <th>discussion_text</th>\n",
       "      <th>Label</th>\n",
       "      <th>ModelName</th>\n",
       "      <th>TextId</th>\n",
       "    </tr>\n",
       "  </thead>\n",
       "  <tbody>\n",
       "    <tr>\n",
       "      <th>0</th>\n",
       "      <td>1</td>\n",
       "      <td>...been on a low-carb diet my blood glucose h...</td>\n",
       "      <td>Trust</td>\n",
       "      <td>Emotions</td>\n",
       "      <td>508e98fc-8db4-4283-a2a4-63c3b70acf86</td>\n",
       "    </tr>\n",
       "    <tr>\n",
       "      <th>1</th>\n",
       "      <td>2</td>\n",
       "      <td>A major problem with the American diet is too ...</td>\n",
       "      <td>Disgust</td>\n",
       "      <td>Emotions</td>\n",
       "      <td>1349404b-4192-4da2-89ed-346d17351c6b</td>\n",
       "    </tr>\n",
       "    <tr>\n",
       "      <th>2</th>\n",
       "      <td>3</td>\n",
       "      <td>Everybody knows that being fat leads to Type 2...</td>\n",
       "      <td>Trust</td>\n",
       "      <td>Emotions</td>\n",
       "      <td>a8961bab-8d57-492e-89b1-07b616a605f1</td>\n",
       "    </tr>\n",
       "    <tr>\n",
       "      <th>3</th>\n",
       "      <td>4</td>\n",
       "      <td>For example  this diet could help reduce prost...</td>\n",
       "      <td>Disgust</td>\n",
       "      <td>Emotions</td>\n",
       "      <td>10628e32-8c12-4c09-b9e0-f98885519c94</td>\n",
       "    </tr>\n",
       "    <tr>\n",
       "      <th>4</th>\n",
       "      <td>5</td>\n",
       "      <td>Hi everyone I have T2 diabetes and was diagnos...</td>\n",
       "      <td>Disgust</td>\n",
       "      <td>Emotions</td>\n",
       "      <td>470c5855-24b9-44b3-aedc-c5cf2ed5ed6d</td>\n",
       "    </tr>\n",
       "  </tbody>\n",
       "</table>\n",
       "</div>"
      ],
      "text/plain": [
       "   No                                    discussion_text    Label ModelName  \\\n",
       "0   1   ...been on a low-carb diet my blood glucose h...    Trust  Emotions   \n",
       "1   2  A major problem with the American diet is too ...  Disgust  Emotions   \n",
       "2   3  Everybody knows that being fat leads to Type 2...    Trust  Emotions   \n",
       "3   4  For example  this diet could help reduce prost...  Disgust  Emotions   \n",
       "4   5  Hi everyone I have T2 diabetes and was diagnos...  Disgust  Emotions   \n",
       "\n",
       "                                 TextId  \n",
       "0  508e98fc-8db4-4283-a2a4-63c3b70acf86  \n",
       "1  1349404b-4192-4da2-89ed-346d17351c6b  \n",
       "2  a8961bab-8d57-492e-89b1-07b616a605f1  \n",
       "3  10628e32-8c12-4c09-b9e0-f98885519c94  \n",
       "4  470c5855-24b9-44b3-aedc-c5cf2ed5ed6d  "
      ]
     },
     "execution_count": 2,
     "metadata": {},
     "output_type": "execute_result"
    }
   ],
   "source": [
    "emotions = pd.read_excel(r\"C:\\Users\\aleen\\Desktop\\Data Science\\Text Analytics\\Assignments\\Diabetes-classification.xlsx\" , sheet_name =\"Emotions\")\n",
    "emotions.head()"
   ]
  },
  {
   "cell_type": "code",
   "execution_count": 3,
   "metadata": {},
   "outputs": [
    {
     "data": {
      "text/html": [
       "<div>\n",
       "<style scoped>\n",
       "    .dataframe tbody tr th:only-of-type {\n",
       "        vertical-align: middle;\n",
       "    }\n",
       "\n",
       "    .dataframe tbody tr th {\n",
       "        vertical-align: top;\n",
       "    }\n",
       "\n",
       "    .dataframe thead th {\n",
       "        text-align: right;\n",
       "    }\n",
       "</style>\n",
       "<table border=\"1\" class=\"dataframe\">\n",
       "  <thead>\n",
       "    <tr style=\"text-align: right;\">\n",
       "      <th></th>\n",
       "      <th>No</th>\n",
       "      <th>discussion_text</th>\n",
       "      <th>Label</th>\n",
       "      <th>ModelName</th>\n",
       "      <th>TextId</th>\n",
       "    </tr>\n",
       "  </thead>\n",
       "  <tbody>\n",
       "    <tr>\n",
       "      <th>0</th>\n",
       "      <td>1</td>\n",
       "      <td>...been on a low-carb diet my blood glucose h...</td>\n",
       "      <td>Living with diabetes - Nutrition</td>\n",
       "      <td>Patient Journey</td>\n",
       "      <td>508e98fc-8db4-4283-a2a4-63c3b70acf86</td>\n",
       "    </tr>\n",
       "    <tr>\n",
       "      <th>1</th>\n",
       "      <td>2</td>\n",
       "      <td>A major problem with the American diet is too ...</td>\n",
       "      <td>Living with diabetes - Nutrition</td>\n",
       "      <td>Patient Journey</td>\n",
       "      <td>1349404b-4192-4da2-89ed-346d17351c6b</td>\n",
       "    </tr>\n",
       "    <tr>\n",
       "      <th>2</th>\n",
       "      <td>3</td>\n",
       "      <td>Everybody knows that being fat leads to Type 2...</td>\n",
       "      <td>Undiagnosed</td>\n",
       "      <td>Patient Journey</td>\n",
       "      <td>a8961bab-8d57-492e-89b1-07b616a605f1</td>\n",
       "    </tr>\n",
       "    <tr>\n",
       "      <th>3</th>\n",
       "      <td>4</td>\n",
       "      <td>For example  this diet could help reduce prost...</td>\n",
       "      <td>Living with diabetes - Nutrition</td>\n",
       "      <td>Patient Journey</td>\n",
       "      <td>10628e32-8c12-4c09-b9e0-f98885519c94</td>\n",
       "    </tr>\n",
       "    <tr>\n",
       "      <th>4</th>\n",
       "      <td>5</td>\n",
       "      <td>Hi everyone I have T2 diabetes and was diagnos...</td>\n",
       "      <td>Clinical Treatment</td>\n",
       "      <td>Patient Journey</td>\n",
       "      <td>470c5855-24b9-44b3-aedc-c5cf2ed5ed6d</td>\n",
       "    </tr>\n",
       "  </tbody>\n",
       "</table>\n",
       "</div>"
      ],
      "text/plain": [
       "   No                                    discussion_text  \\\n",
       "0   1   ...been on a low-carb diet my blood glucose h...   \n",
       "1   2  A major problem with the American diet is too ...   \n",
       "2   3  Everybody knows that being fat leads to Type 2...   \n",
       "3   4  For example  this diet could help reduce prost...   \n",
       "4   5  Hi everyone I have T2 diabetes and was diagnos...   \n",
       "\n",
       "                              Label        ModelName  \\\n",
       "0  Living with diabetes - Nutrition  Patient Journey   \n",
       "1  Living with diabetes - Nutrition  Patient Journey   \n",
       "2                       Undiagnosed  Patient Journey   \n",
       "3  Living with diabetes - Nutrition  Patient Journey   \n",
       "4                Clinical Treatment  Patient Journey   \n",
       "\n",
       "                                 TextId  \n",
       "0  508e98fc-8db4-4283-a2a4-63c3b70acf86  \n",
       "1  1349404b-4192-4da2-89ed-346d17351c6b  \n",
       "2  a8961bab-8d57-492e-89b1-07b616a605f1  \n",
       "3  10628e32-8c12-4c09-b9e0-f98885519c94  \n",
       "4  470c5855-24b9-44b3-aedc-c5cf2ed5ed6d  "
      ]
     },
     "execution_count": 3,
     "metadata": {},
     "output_type": "execute_result"
    }
   ],
   "source": [
    "journey = pd.read_excel(r\"C:\\Users\\aleen\\Desktop\\Data Science\\Text Analytics\\Assignments\\Diabetes-classification.xlsx\" , sheet_name =\"Patient-journey\")\n",
    "journey.head()"
   ]
  },
  {
   "cell_type": "code",
   "execution_count": 4,
   "metadata": {},
   "outputs": [
    {
     "data": {
      "text/plain": [
       "<matplotlib.axes._subplots.AxesSubplot at 0x1d3d45cc550>"
      ]
     },
     "execution_count": 4,
     "metadata": {},
     "output_type": "execute_result"
    },
    {
     "data": {
      "image/png": "[encoded data removed]",
      "text/plain": [
       "<Figure size 720x288 with 1 Axes>"
      ]
     },
     "metadata": {
      "needs_background": "light"
     },
     "output_type": "display_data"
    }
   ],
   "source": [
    "plt.figure(figsize=(10,4))\n",
    "emotions.Label.value_counts().plot(kind='bar')"
   ]
  },
  {
   "cell_type": "code",
   "execution_count": 5,
   "metadata": {},
   "outputs": [
    {
     "data": {
      "image/png": "[encoded data removed]",
      "text/plain": [
       "<Figure size 720x288 with 1 Axes>"
      ]
     },
     "metadata": {
      "needs_background": "light"
     },
     "output_type": "display_data"
    }
   ],
   "source": [
    "plt.figure(figsize=(10,4))\n",
    "journey.Label.value_counts().plot(kind='bar');"
   ]
  },
  {
   "cell_type": "markdown",
   "metadata": {},
   "source": [
    "As can be seen from the plots, the classes are very umbalanced, suggesting that the upcoming models might be biased and thus innacurate. "
   ]
  },
  {
   "cell_type": "markdown",
   "metadata": {},
   "source": [
    "### Converting Data Frame to Corpus\n",
    "Firstly, I need to convert each row of my dataframes to corpus files."
   ]
  },
  {
   "cell_type": "code",
   "execution_count": 10,
   "metadata": {
    "code_folding": [
     0
    ]
   },
   "outputs": [],
   "source": [
    "def CreateCorpusFromDataFrame(corpusfolder,df): # The new corpus's path and the data frame it is created from. \n",
    "    \"\"\"\n",
    "    This function takes a data frame containing text and transforms it into a corpus.\n",
    "    Each row of the excel becomes a document. \n",
    "    The name of the document takes the fileid and the class it belongs to. \n",
    "    \"\"\"\n",
    "    for index, r in df.iterrows():\n",
    "        no=r[\"No\"]\n",
    "        discussion_text=r['discussion_text']\n",
    "        label=r['Label']\n",
    "        model_name=r[\"ModelName\"]\n",
    "        id=r['TextId']\n",
    "        \n",
    "        fname=str(label)+'_'+str(id)+'.txt' # Document name practically\n",
    "        corpusfile=open(corpusfolder+'/'+ fname,'w',encoding=\"utf-8\") # a for appending; creates file if non-existent\n",
    "        corpusfile.write(str(discussion_text)) # write the document\n",
    "        corpusfile.close() # and close it \n",
    "\n",
    "\n",
    "CreateCorpusFromDataFrame(r\"C:\\Users\\aleen\\Desktop\\Data Science\\Text Analytics\\Assignments\\Corpora\\Diabetes\\Emotions\",emotions)\n",
    "CreateCorpusFromDataFrame(r\"C:\\Users\\aleen\\Desktop\\Data Science\\Text Analytics\\Assignments\\Corpora\\Diabetes\\Journey\",journey)"
   ]
  },
  {
   "cell_type": "markdown",
   "metadata": {},
   "source": [
    "Secondly, I need to read the files from the corpus folder and then do the NLTK processing required"
   ]
  },
  {
   "cell_type": "code",
   "execution_count": 11,
   "metadata": {},
   "outputs": [],
   "source": [
    "emotions_corpus=CategorizedPlaintextCorpusReader(r\"C:\\Users\\aleen\\Desktop\\Data Science\\Text Analytics\\Assignments\\Corpora\\Diabetes\\Emotions\",\n",
    "r'.*', cat_pattern=r'(.*)_.*') \n",
    "journey_corpus=CategorizedPlaintextCorpusReader(r\"C:\\Users\\aleen\\Desktop\\Data Science\\Text Analytics\\Assignments\\Corpora\\Diabetes\\Journey\",\n",
    "r'.*', cat_pattern=r'(.*)_.*')"
   ]
  },
  {
   "cell_type": "markdown",
   "metadata": {},
   "source": [
    "### Checking out the new corporas\n",
    "\n",
    "Checking to see if we have access."
   ]
  },
  {
   "cell_type": "code",
   "execution_count": 8,
   "metadata": {},
   "outputs": [],
   "source": [
    "#emotions_corpus.fileids()\n",
    "#journey_corpus.fileids()"
   ]
  },
  {
   "cell_type": "code",
   "execution_count": 12,
   "metadata": {},
   "outputs": [
    {
     "name": "stdout",
     "output_type": "stream",
     "text": [
      "['Anger', 'Anticipation', 'Disgust', 'Fear', 'Joy', 'Sadness', 'Surprise', 'Trust']\n",
      "['Alternative Treatment', 'Clinical Treatment', 'Diagnosis ', 'Living with diabetes - Exercise', 'Living with diabetes - Lifestyle; Social and Psychological', 'Living with diabetes - Nutrition', 'Relatives of diabetes patients', 'Undiagnosed']\n"
     ]
    }
   ],
   "source": [
    "#print(emotions_corpus.words())\n",
    "print(emotions_corpus.categories())\n",
    "#print(journey_corpus.words())\n",
    "print(journey_corpus.categories())"
   ]
  },
  {
   "cell_type": "markdown",
   "metadata": {},
   "source": [
    "### Document Lists"
   ]
  },
  {
   "cell_type": "code",
   "execution_count": 13,
   "metadata": {
    "code_folding": [
     0
    ]
   },
   "outputs": [
    {
     "name": "stdout",
     "output_type": "stream",
     "text": [
      "Total documents in emotions corpus:  3386\n",
      "Total documents in journey corpus:  1426\n",
      "Total words from Emotions corpus:  293800\n",
      "Total words from Patient Journey corpus:  123980\n"
     ]
    }
   ],
   "source": [
    "def CreateDocumentsList(corpus):\n",
    "    \"\"\"\n",
    "    Creates a list consisting of tuples of the corpus's \n",
    "    documents' file id's and of the category they belong to.\n",
    "    Each document is a text comment and is associated with a \n",
    "    specific emotion or patient journey.\n",
    "    \"\"\"\n",
    "    documents = [(list(corpus.words(fileid)), category) # List comprehension\n",
    "                 for category in corpus.categories()\n",
    "                 for fileid in corpus.fileids(category)]\n",
    "    random.shuffle(documents) # The documents are shuffled randomly, so they are not in a particular order. \n",
    "    return documents\n",
    "\n",
    "# We create a list of the documents neccesary for each model.\n",
    "emotions_list = CreateDocumentsList(emotions_corpus)\n",
    "journey_list = CreateDocumentsList(journey_corpus)\n",
    "print(\"Total documents in emotions corpus: \",len(emotions_list))\n",
    "print(\"Total documents in journey corpus: \", len(journey_list))\n",
    "print('Total words from Emotions corpus: ', len(emotions_corpus.words()))\n",
    "print('Total words from Patient Journey corpus: ', len(journey_corpus.words()))"
   ]
  },
  {
   "cell_type": "markdown",
   "metadata": {},
   "source": [
    "### Word Frequency Distribution\n",
    "Load all words from all the documents to use most common words as features. "
   ]
  },
  {
   "cell_type": "code",
   "execution_count": 14,
   "metadata": {
    "code_folding": [
     0
    ]
   },
   "outputs": [
    {
     "data": {
      "text/plain": [
       "['i', '..', 'and', 'the', 'to']"
      ]
     },
     "execution_count": 14,
     "metadata": {},
     "output_type": "execute_result"
    }
   ],
   "source": [
    "def CreateFeaturesList(corpus, most_freq_no):\n",
    "    \"\"\"\n",
    "    This function creates a frequency distribution from a bag of words, \n",
    "    then stores the n most frequent ones and returns them as a list of features.\n",
    "    \"\"\"\n",
    "    all_words = nltk.FreqDist(w.lower() for w in corpus.words()) # Frequenncy distribution of bag of words creates a tuple.\n",
    "    most_freq_words = all_words.most_common(most_freq_no) # The most common words and their counter. \n",
    "    word_features = [word for (word, count) in most_freq_words] # Just the words, to be used as features. \n",
    "    return word_features\n",
    "\n",
    "# Using the function to create feature lists \n",
    "emotions_word_features = CreateFeaturesList(emotions_corpus, 3000)\n",
    "journey_word_features = CreateFeaturesList(journey_corpus, 2000)\n",
    "# Testing\n",
    "emotions_word_features[:5] "
   ]
  },
  {
   "cell_type": "markdown",
   "metadata": {},
   "source": [
    "### Generating Set containing Features"
   ]
  },
  {
   "cell_type": "code",
   "execution_count": 15,
   "metadata": {
    "code_folding": [
     0
    ]
   },
   "outputs": [
    {
     "name": "stdout",
     "output_type": "stream",
     "text": [
      "3000\n",
      "Transformed document features; printing the first 20 features \n",
      "\n",
      " {'contains(i)': False, 'contains(..)': True, 'contains(and)': True, 'contains(the)': True, 'contains(to)': True, 'contains(a)': True, 'contains(diabetes)': True, 'contains(of)': True, \"contains(')\": True, 'contains(.)': True, 'contains(2)': True, 'contains(type)': True, 'contains(is)': True, 'contains(my)': False, 'contains(that)': True, 'contains(have)': False, 'contains(in)': False, 'contains(it)': True, 'contains(with)': True, 'contains(-)': False}\n"
     ]
    }
   ],
   "source": [
    "def GetDocumentFeatures(document, word_features):\n",
    "    \"\"\"\n",
    "    This function will convert given document into a feature set.\n",
    "    Returns a dictionary whose keys are the features of the corpus \n",
    "    and the values are binary True or False.\n",
    "    \"\"\"\n",
    "    document_words = set(document)\n",
    "    features = {}\n",
    "    for word in word_features:\n",
    "        features['contains({})'.format(word)] = (word in document_words)\n",
    "    return features\n",
    "\n",
    "# Let's try out one of the documents from Emotions as an example: \n",
    "words_doc = emotions_corpus.words('Anger_0cbbf7fb-6ff0-4a56-a5c9-510247c70d9d.txt')\n",
    "# Call the function\n",
    "feat_dict = GetDocumentFeatures(words_doc,emotions_word_features)\n",
    "print(len(feat_dict)) # 3000, this is good.\n",
    "# Let's take just the first 20 as an example.\n",
    "feat_dict_20 = {k: feat_dict[k] for k in list(feat_dict.keys())[:20]}\n",
    "print('Transformed document features; printing the first 20 features \\n\\n', feat_dict_20)"
   ]
  },
  {
   "cell_type": "code",
   "execution_count": 19,
   "metadata": {},
   "outputs": [
    {
     "name": "stdout",
     "output_type": "stream",
     "text": [
      "3386\n",
      "1426\n"
     ]
    }
   ],
   "source": [
    "def CreateFeatureSets(documents_list, word_features):\n",
    "    \"\"\" \n",
    "    Creates a set of the features to be used in classification modelling. \n",
    "    \"\"\"\n",
    "    # For each document in the list, featuresets appends a tuple with the \n",
    "    featuresets = [(GetDocumentFeatures(d, word_features), c) for (d,c) in documents_list]\n",
    "    return featuresets\n",
    "emotion_featuresets = CreateFeatureSets(emotions_list, emotions_word_features)\n",
    "journey_featuresets = CreateFeatureSets(journey_list, journey_word_features)\n",
    "\n",
    "# Testing\n",
    "emotion_featuresets[:1] # A list of tuples (dictionary[feature]:T/F, category) for each document. \n",
    "# Same lengths as the document lists. Thus, a featureset for each document. \n",
    "print(len(emotion_featuresets))\n",
    "print(len(journey_featuresets))"
   ]
  },
  {
   "cell_type": "code",
   "execution_count": 17,
   "metadata": {},
   "outputs": [],
   "source": [
    "# DOCUMENT/LABELS LIST \n",
    "def CreateDocumentsLabels(corpus):\n",
    "    \"\"\"\n",
    "    Creates category mapping and then:\n",
    "    creates two lists: one consisting of documents\n",
    "    and one consisting of categories (labels) of a specified corpus.\n",
    "    \"\"\"\n",
    "    index = 0\n",
    "    cat_mapping = {}\n",
    "    for cat in corpus.categories():\n",
    "        cat_mapping[str(cat)] = index\n",
    "        index += 1\n",
    "    #print(cat_mapping)\n",
    "    corpus_docs = []\n",
    "    corpus_labels = []\n",
    "    for category in cat_mapping:\n",
    "        for fileid in corpus.fileids(category):\n",
    "            corpus_docs.append(corpus.raw(fileids = fileid))\n",
    "            corpus_labels.append(cat_mapping[category])\n",
    "    return (corpus_docs, corpus_labels, cat_mapping)"
   ]
  },
  {
   "cell_type": "code",
   "execution_count": 18,
   "metadata": {},
   "outputs": [],
   "source": [
    "# CREATING LISTS OF DOCUMENTS AND LABELS \n",
    "emotions_documents = CreateDocumentsLabels(emotions_corpus)[0]\n",
    "emotions_labels = CreateDocumentsLabels(emotions_corpus)[1]\n",
    "journey_documents = CreateDocumentsLabels(journey_corpus)[0]\n",
    "journey_labels = CreateDocumentsLabels(journey_corpus)[1]\n",
    "# TRAIN/TEST SPLIT\n",
    "emotions_xTrain, emotions_xTest, emotions_yTrain, emotions_yTest = train_test_split(emotions_documents, emotions_labels)\n",
    "journey_xTrain, journey_xTest, journey_yTrain, journey_yTest = train_test_split(journey_documents, journey_labels)"
   ]
  },
  {
   "cell_type": "markdown",
   "metadata": {},
   "source": [
    "## Multinomial Naive Bayes"
   ]
  },
  {
   "cell_type": "code",
   "execution_count": 20,
   "metadata": {
    "code_folding": [
     0
    ]
   },
   "outputs": [
    {
     "name": "stdout",
     "output_type": "stream",
     "text": [
      "Accuracy of Emotions NB : 0.3246753246753247\n",
      "Accuracy of Journey NB : 0.4789915966386555\n"
     ]
    }
   ],
   "source": [
    "def CreateNBPipeline(corpus):\n",
    "    \"\"\"\n",
    "    This is a convenience function for simplifying pipeline creation for multiple corpora.\n",
    "    \"\"\"\n",
    "    pipe_clf = Pipeline( # Applies a sequence of transformations and a final estimator\n",
    "        # Lists of (name,transformation) tuples. \n",
    "    [('vect', CountVectorizer(decode_error='ignore', # Regarding errors raised when encountering characters in different encoding.\n",
    "                              stop_words='english', # We remove redundant words.\n",
    "                              max_features=100)), # Not the vocabulary size.\n",
    "     ('tfidf', TfidfTransformer()), # tf=term frequency, i=times,df=document frequency\n",
    "     ('clf', MultinomialNB())])\n",
    "    return pipe_clf\n",
    "\n",
    "# Pipeline creation\n",
    "emotions_NBpipeline = CreateNBPipeline(emotions_xTrain)\n",
    "journey_NBpipeline = CreateNBPipeline(journey_xTrain)\n",
    "# Fitting pipelines\n",
    "NB_emotions = emotions_NBpipeline.fit(emotions_xTrain, emotions_yTrain)\n",
    "NB_journey = journey_NBpipeline.fit(journey_xTrain, journey_yTrain)\n",
    "# Creating predictions \n",
    "emotions_NBpredictions = NB_emotions.predict(emotions_xTest)\n",
    "journey_NBpredictions = NB_journey.predict(journey_xTest)\n",
    "# Getting that accuracy score\n",
    "print('Accuracy of Emotions NB :', accuracy_score(emotions_yTest, emotions_NBpredictions))\n",
    "print('Accuracy of Journey NB :', accuracy_score(journey_yTest, journey_NBpredictions))"
   ]
  },
  {
   "cell_type": "markdown",
   "metadata": {},
   "source": [
    "Through the pipeline, I get much higher accuracy scores, but cannot benefit from the most informative features."
   ]
  },
  {
   "cell_type": "markdown",
   "metadata": {},
   "source": [
    "### Some helper functions"
   ]
  },
  {
   "cell_type": "code",
   "execution_count": 24,
   "metadata": {
    "code_folding": [
     0
    ]
   },
   "outputs": [],
   "source": [
    "def get_key_categories(dict, value):\n",
    "    \"\"\"Return key of the dictionary.\"\"\"\n",
    "    if not value.isdigit():\n",
    "        return None\n",
    "    \n",
    "    for key, val in dict.items():\n",
    "        if val == int(value):\n",
    "            return key\n",
    "    \n",
    "    return None"
   ]
  },
  {
   "cell_type": "code",
   "execution_count": 25,
   "metadata": {
    "code_folding": [
     0
    ]
   },
   "outputs": [],
   "source": [
    "def get_most_informative_features(clf, vectorizer, \n",
    "                                  label_names, \n",
    "                                  max_number_informative_features):\n",
    "    \"\"\"\n",
    "    Prints features with the highest coefficient values, per class\n",
    "    \"\"\"\n",
    "    output = []\n",
    "\n",
    "    \n",
    "    try:\n",
    "        feature_names = vectorizer.get_feature_names()\n",
    "\n",
    "        label_index = len(label_names)\n",
    "        \n",
    "        if label_index == 2:\n",
    "            label_index = 1\n",
    "            print('features for binary classification!')\n",
    "        \n",
    "        for index in range(label_index):\n",
    "            #print(str(index) + label_names[index])\n",
    "            #print('clf.coef_:',len(clf.coef_))\n",
    "            \n",
    "            output.append('\\n' + label_names[index] + ':\\n')\n",
    "            \n",
    "            coefs_with_fns = sorted(zip(clf.coef_[index], feature_names))\n",
    "            \n",
    "            #print(coefs_with_fns)\n",
    "            \n",
    "            threshold = int(max_number_informative_features / 2)\n",
    "\n",
    "            top = zip(coefs_with_fns[:threshold],\n",
    "                      coefs_with_fns[:-(threshold + 1):-1])\n",
    "            \n",
    "            for (coef_1, fn_1), (coef_2, fn_2) in top:\n",
    "                feat = \"\\t%.4f\\t%-15s\\t\\t%.4f\\t%-15s\" % (coef_1, fn_1, coef_2, fn_2)\n",
    "                output.append(feat)\n",
    "            \n",
    "            #print('\\n'.join(output))\n",
    "                \n",
    "    except:\n",
    "        print(\"Unexpected error:\", sys.exc_info()[0])\n",
    "        raise \n",
    "        return '\\n'.join(output)\n",
    "\n",
    "    return '\\n'.join(output)\n"
   ]
  },
  {
   "cell_type": "markdown",
   "metadata": {},
   "source": [
    "### Informative Measures "
   ]
  },
  {
   "cell_type": "code",
   "execution_count": 29,
   "metadata": {},
   "outputs": [
    {
     "name": "stdout",
     "output_type": "stream",
     "text": [
      "+--------------+-----------+--------+----------+---------+\n",
      "|    Label     | Precision | Recall | f1-score | support |\n",
      "+--------------+-----------+--------+----------+---------+\n",
      "|    Anger     |    0.0    |  0.0   |   0.0    |    23   |\n",
      "| Anticipation |    0.25   | 0.028  |  0.051   |   247   |\n",
      "|   Disgust    |    0.0    |  0.0   |   0.0    |    80   |\n",
      "|     Fear     |    0.0    |  0.0   |   0.0    |    30   |\n",
      "|     Joy      |    0.0    |  0.0   |   0.0    |    63   |\n",
      "|   Sadness    |    0.0    |  0.0   |   0.0    |    74   |\n",
      "|   Surprise   |    0.0    |  0.0   |   0.0    |    51   |\n",
      "|    Trust     |   0.327   | 0.961  |  0.488   |   279   |\n",
      "|  micro avg   |   0.325   | 0.325  |  0.325   |   847   |\n",
      "|  macro avg   |   0.072   | 0.124  |  0.067   |   847   |\n",
      "| weighted avg |   0.181   | 0.325  |  0.176   |   847   |\n",
      "+--------------+-----------+--------+----------+---------+ \n",
      "\n",
      "\n",
      "Lenght of coeffients:  100 \n",
      "\n",
      "\n",
      "Lenght of intercepts:  8 \n",
      "\n",
      " [-3.7123912  -1.31596328 -2.47823342 -3.24440573 -2.46424717 -2.19407868\n",
      " -3.18556523 -1.05960367]\n",
      "\n",
      "Most important features\n",
      " \n",
      "Anger:\n",
      "\n",
      "\t-5.4294\tday            \t\t-3.2458\tdiabetes       \n",
      "\t-5.4262\tfood           \t\t-3.3536\ttype           \n",
      "\t-5.4037\tmonths         \t\t-3.9384\tblood          \n",
      "\t-5.3951\tlife           \t\t-3.9655\tjust           \n",
      "\t-5.3898\trecently       \t\t-4.0255\tweight         \n",
      "\n",
      "Anticipation:\n",
      "\n",
      "\t-5.4790\tfoods          \t\t-2.9513\tdiabetes       \n",
      "\t-5.2984\tloss           \t\t-3.0799\ttype           \n",
      "\t-5.2801\told            \t\t-3.8163\tinsulin        \n",
      "\t-5.2620\tdoing          \t\t-3.8534\tdiet           \n",
      "\t-5.2269\tdr             \t\t-3.9586\tjust           \n",
      "\n",
      "Disgust:\n",
      "\n",
      "\t-5.6138\tadvice         \t\t-3.0479\tdiabetes       \n",
      "\t-5.4805\tfood           \t\t-3.1019\ttype           \n",
      "\t-5.4751\tlifestyle      \t\t-3.5810\tinsulin        \n",
      "\t-5.4361\tmake           \t\t-3.7801\tyears          \n",
      "\t-5.4167\tread           \t\t-3.8449\tblood          \n",
      "\n",
      "Fear:\n",
      "\n",
      "\t-5.9367\tright          \t\t-3.2781\tdiabetes       \n",
      "\t-5.8246\tforum          \t\t-3.4803\ttype           \n",
      "\t-5.4011\ttaking         \t\t-3.7644\tinsulin        \n",
      "\t-5.3912\thigher         \t\t-3.9693\tt2             \n",
      "\t-5.3787\tlifestyle      \t\t-3.9849\thigh           \n",
      "\n",
      "Joy:\n",
      "\n",
      "\t-5.7277\tbetter         \t\t-3.1639\tdiabetes       \n",
      "\t-5.6581\tfoods          \t\t-3.3139\ttype           \n",
      "\t-5.4780\tmedication     \t\t-3.9571\tyears          \n",
      "\t-5.4316\tresistance     \t\t-3.9605\tblood          \n",
      "\t-5.4251\tmonths         \t\t-3.9611\tdiet           \n",
      "\n",
      "Sadness:\n",
      "\n",
      "\t-5.4594\tlost           \t\t-3.1135\tdiabetes       \n",
      "\t-5.4453\tlifestyle      \t\t-3.2024\ttype           \n",
      "\t-5.4337\tnormal         \t\t-3.9958\tdiagnosed      \n",
      "\t-5.4132\tresistance     \t\t-3.9966\tknow           \n",
      "\t-5.3744\tthings         \t\t-4.0383\tdiet           \n",
      "\n",
      "Surprise:\n",
      "\n",
      "\t-5.9260\tthings         \t\t-3.1391\tdiabetes       \n",
      "\t-5.7245\thigher         \t\t-3.3465\ttype           \n",
      "\t-5.5111\tdiabetics      \t\t-3.9209\tdiagnosed      \n",
      "\t-5.4765\tnormal         \t\t-3.9638\tyears          \n",
      "\t-5.4750\tcarb           \t\t-4.0003\tdiet           \n",
      "\n",
      "Trust:\n",
      "\n",
      "\t-5.3520\tresistance     \t\t-2.9142\tdiabetes       \n",
      "\t-5.2565\tlost           \t\t-3.0476\ttype           \n",
      "\t-5.2446\tforum          \t\t-3.9080\tinsulin        \n",
      "\t-5.2437\tsay            \t\t-3.9364\tdiet           \n",
      "\t-5.2283\thigher         \t\t-3.9820\tjust           \n",
      "+------------------------------------------------------------+-----------+--------+----------+---------+\n",
      "|                           Label                            | Precision | Recall | f1-score | support |\n",
      "+------------------------------------------------------------+-----------+--------+----------+---------+\n",
      "|                   Alternative Treatment                    |    0.0    |  0.0   |   0.0    |    1    |\n",
      "|                     Clinical Treatment                     |   0.688   | 0.328  |  0.444   |    67   |\n",
      "|                         Diagnosis                          |    0.0    |  0.0   |   0.0    |    10   |\n",
      "|              Living with diabetes - Exercise               |   0.824   | 0.275  |  0.412   |    51   |\n",
      "| Living with diabetes - Lifestyle; Social and Psychological |   0.413   | 0.528  |  0.463   |    72   |\n",
      "|              Living with diabetes - Nutrition              |   0.458   | 0.879  |  0.602   |    99   |\n",
      "|               Relatives of diabetes patients               |    0.0    |  0.0   |   0.0    |    12   |\n",
      "|                        Undiagnosed                         |   0.385   | 0.222  |  0.282   |    45   |\n",
      "|                         micro avg                          |   0.479   | 0.479  |  0.479   |   357   |\n",
      "|                         macro avg                          |   0.346   | 0.279  |  0.275   |   357   |\n",
      "|                        weighted avg                        |   0.505   | 0.479  |  0.438   |   357   |\n",
      "+------------------------------------------------------------+-----------+--------+----------+---------+ \n",
      "\n",
      "\n",
      "Lenght of coeffients:  100 \n",
      "\n",
      "\n",
      "Lenght of intercepts:  8 \n",
      "\n",
      " [-4.40952955 -1.93105379 -3.08265861 -2.07663911 -1.59458156 -1.20615792\n",
      " -3.31091726 -2.01865185]\n",
      "\n",
      "Most important features\n",
      " \n",
      "Alternative Treatment:\n",
      "\n",
      "\t-4.8912\tago            \t\t-3.5586\tdiabetes       \n",
      "\t-4.8912\tbetter         \t\t-3.7841\thelp           \n",
      "\t-4.8912\tbody           \t\t-3.8179\ttype           \n",
      "\t-4.8912\tcarb           \t\t-3.8786\tjust           \n",
      "\t-4.8912\tcarbs          \t\t-3.9888\tinsulin        \n",
      "\n",
      "Clinical Treatment:\n",
      "\n",
      "\t-6.2635\tfat            \t\t-3.1525\ttype           \n",
      "\t-6.0573\tlifestyle      \t\t-3.1648\tdiabetes       \n",
      "\t-6.0509\toverweight     \t\t-3.2191\tmetformin      \n",
      "\t-5.9920\tcarbs          \t\t-3.4667\tinsulin        \n",
      "\t-5.9826\tfoods          \t\t-3.8461\tdiagnosed      \n",
      "\n",
      "Diagnosis :\n",
      "\n",
      "\t-5.4181\tcarb           \t\t-3.0068\tdiagnosed      \n",
      "\t-5.4181\tdaily          \t\t-3.3171\tdiabetes       \n",
      "\t-5.4181\tdiabetics      \t\t-3.3845\thi             \n",
      "\t-5.4181\teat            \t\t-3.3979\ttype           \n",
      "\t-5.4181\texercise       \t\t-3.7639\tgot            \n",
      "\n",
      "Living with diabetes - Exercise:\n",
      "\n",
      "\t-5.6386\thello          \t\t-2.9696\texercise       \n",
      "\t-5.6356\tfamily         \t\t-3.3381\tdiabetes       \n",
      "\t-5.5936\twww            \t\t-3.5077\tdiet           \n",
      "\t-5.5679\tdifferent      \t\t-3.5465\ttype           \n",
      "\t-5.5355\tcom            \t\t-3.8830\tweight         \n",
      "\n",
      "Living with diabetes - Lifestyle; Social and Psychological:\n",
      "\n",
      "\t-6.5104\tcarbs          \t\t-2.9210\tdiabetes       \n",
      "\t-6.3804\tfoods          \t\t-3.1554\ttype           \n",
      "\t-6.2689\tcarb           \t\t-3.5832\thi             \n",
      "\t-6.2112\tfood           \t\t-3.6383\tyears          \n",
      "\t-5.7601\teating         \t\t-3.8627\tjust           \n",
      "\n",
      "Living with diabetes - Nutrition:\n",
      "\n",
      "\t-6.0742\tsymptoms       \t\t-3.1144\tdiabetes       \n",
      "\t-5.9262\tsurgery        \t\t-3.3071\ttype           \n",
      "\t-5.8629\texercise       \t\t-3.3598\tdiet           \n",
      "\t-5.6697\tresistance     \t\t-3.8379\tsugar          \n",
      "\t-5.6147\told            \t\t-3.9520\tlow            \n",
      "\n",
      "Relatives of diabetes patients:\n",
      "\n",
      "\t-5.3075\tcarb           \t\t-3.0826\ttype           \n",
      "\t-5.3075\tfeel           \t\t-3.2180\tdiabetes       \n",
      "\t-5.3075\tforum          \t\t-3.5186\tfamily         \n",
      "\t-5.3075\thttp           \t\t-3.6812\tknow           \n",
      "\t-5.3075\tlifestyle      \t\t-3.6829\tdiabetic       \n",
      "\n",
      "Undiagnosed:\n",
      "\n",
      "\t-6.1285\tcarb           \t\t-2.6881\tdiabetes       \n",
      "\t-6.1285\tcarbs          \t\t-2.8255\ttype           \n",
      "\t-6.1285\tmedication     \t\t-3.5868\tinsulin        \n",
      "\t-6.1285\tmeds           \t\t-3.7455\tobesity        \n",
      "\t-5.9315\tdaily          \t\t-3.7656\trisk           \n"
     ]
    }
   ],
   "source": [
    "def CreatePrettyTableNBMeasuresInfo(corpus, corpus_pipeline, yTest, predictions):\n",
    "    \"\"\"\n",
    "    Creates a pretty table with the measures info for the specified corpora.\n",
    "    \"\"\"\n",
    "    measures_info = metrics.classification_report(yTest, predictions, output_dict=True)\n",
    "    tab = PrettyTable(['Label', 'Precision', 'Recall', 'f1-score', 'support'])\n",
    "    \n",
    "    for key, value in measures_info.items():\n",
    "        if key.isdigit():\n",
    "            label = get_key_categories(CreateDocumentsLabels(corpus)[2], key)\n",
    "            tab.add_row([label, round(value['precision'],3), round(value['recall'],3), round(value['f1-score'],3), value['support']])\n",
    "        else:\n",
    "            tab.add_row([key, round(value['precision'],3), round(value['recall'],3), round(value['f1-score'],3), value['support']])\n",
    "    print(tab,\"\\n\")\n",
    "    \n",
    "    vectorizer = corpus_pipeline.named_steps['vect']\n",
    "    clf = corpus_pipeline.named_steps['clf']\n",
    "    feature_names = vectorizer.get_feature_names()\n",
    "    imp_features = get_most_informative_features(clf, vectorizer,list(CreateDocumentsLabels(corpus)[2]), 10)\n",
    "    print('\\nLenght of coeffients: ', len(clf.coef_[0]), '\\n\\n') # also print clf.coef_ optionally\n",
    "    print('Lenght of intercepts: ', len(clf.intercept_), '\\n\\n', clf.intercept_)\n",
    "    print('\\nMost important features\\n', imp_features)\n",
    "\n",
    "\n",
    "CreatePrettyTableNBMeasuresInfo(emotions_corpus, emotions_NBpipeline, emotions_yTest, emotions_NBpredictions)\n",
    "CreatePrettyTableNBMeasuresInfo(journey_corpus, journey_NBpipeline, journey_yTest, journey_NBpredictions)   "
   ]
  },
  {
   "cell_type": "markdown",
   "metadata": {},
   "source": [
    "## Logistic Regression"
   ]
  },
  {
   "cell_type": "markdown",
   "metadata": {},
   "source": [
    "### Creating a Pipeline \n",
    "The goal of using tf-idf instead of the raw frequencies of occurrence of a token in a given document is to scale down the impact of tokens that occur very frequently in a given corpus and that are hence empirically less informative than features that occur in a small fraction of the training corpus."
   ]
  },
  {
   "cell_type": "code",
   "execution_count": 27,
   "metadata": {},
   "outputs": [
    {
     "name": "stdout",
     "output_type": "stream",
     "text": [
      "Accuracy of Emotions LR : 0.2833530106257379\n",
      "Accuracy of Journey LR : 0.5546218487394958\n"
     ]
    }
   ],
   "source": [
    "def CreateLRPipeline(corpus):\n",
    "    \"\"\"\n",
    "    This is a convenience function for simplifying pipeline creation for multiple corpora.\n",
    "    \"\"\"\n",
    "    pipe_clf = Pipeline( # Applies a sequence of transformations and a final estimator\n",
    "        # Lists of (name,transformation) tuples. \n",
    "    [('vect', CountVectorizer(decode_error='ignore', # Regarding errors raised when encountering characters in different encoding.\n",
    "                              stop_words='english', # We remove redundant words.\n",
    "                              max_features=100)), # Not the vocabulary size.\n",
    "     ('tfidf', TfidfTransformer()), # tf=term frequency, i=times,df=document frequency\n",
    "     ('clf', LogisticRegression( penalty='l2', solver='lbfgs', max_iter = 1000,\n",
    "                                dual=False, multi_class='multinomial', tol=1e-3)), # Some parameters are not clear to me so I chose \"default\" ones from class.\n",
    "     ])\n",
    "    return pipe_clf\n",
    "\n",
    "# Pipeline creation\n",
    "emotions_LRpipeline = CreateLRPipeline(emotions_corpus)\n",
    "journey_LRpipeline = CreateLRPipeline(journey_corpus)\n",
    "# Fitting pipelines\n",
    "LR_emotions = emotions_LRpipeline.fit(emotions_xTrain, emotions_yTrain)\n",
    "LR_journey = journey_LRpipeline.fit(journey_xTrain, journey_yTrain)\n",
    "# Creating predictions \n",
    "emotions_LRpredictions = LR_emotions.predict(emotions_xTest)\n",
    "journey_LRpredictions = LR_journey.predict(journey_xTest)\n",
    "# Getting that accuracy score\n",
    "print('Accuracy of Emotions LR :', accuracy_score(emotions_yTest, emotions_LRpredictions))\n",
    "print('Accuracy of Journey LR :', accuracy_score(journey_yTest, journey_LRpredictions))"
   ]
  },
  {
   "cell_type": "markdown",
   "metadata": {},
   "source": [
    "We get much greater accuracy scores than with the Multinomial Naive Bayes, in each corpus, altough the one for emotions is still weaker than the one for patient journey. This tells me that the emotions dataset is inherently more complex in its true nature and harder to classify accurately. "
   ]
  },
  {
   "cell_type": "markdown",
   "metadata": {},
   "source": [
    "### Informative measures"
   ]
  },
  {
   "cell_type": "code",
   "execution_count": 28,
   "metadata": {},
   "outputs": [
    {
     "name": "stderr",
     "output_type": "stream",
     "text": [
      "C:\\Users\\aleen\\AppData\\Local\\Continuum\\anaconda3\\lib\\site-packages\\sklearn\\metrics\\classification.py:1143: UndefinedMetricWarning: Precision and F-score are ill-defined and being set to 0.0 in labels with no predicted samples.\n",
      "  'precision', 'predicted', average, warn_for)\n"
     ]
    },
    {
     "name": "stdout",
     "output_type": "stream",
     "text": [
      "+--------------+-----------+--------+----------+---------+\n",
      "|    Label     | Precision | Recall | f1-score | support |\n",
      "+--------------+-----------+--------+----------+---------+\n",
      "|    Anger     |    0.0    |  0.0   |   0.0    |    23   |\n",
      "| Anticipation |   0.236   | 0.223  |  0.229   |   247   |\n",
      "|   Disgust    |    1.0    | 0.013  |  0.025   |    80   |\n",
      "|     Fear     |    0.0    |  0.0   |   0.0    |    30   |\n",
      "|     Joy      |    0.0    |  0.0   |   0.0    |    63   |\n",
      "|   Sadness    |    0.0    |  0.0   |   0.0    |    74   |\n",
      "|   Surprise   |    0.0    |  0.0   |   0.0    |    51   |\n",
      "|    Trust     |   0.302   | 0.659  |  0.414   |   279   |\n",
      "|  micro avg   |   0.283   | 0.283  |  0.283   |   847   |\n",
      "|  macro avg   |   0.192   | 0.112  |  0.084   |   847   |\n",
      "| weighted avg |   0.263   | 0.283  |  0.206   |   847   |\n",
      "+--------------+-----------+--------+----------+---------+ \n",
      "\n",
      "\n",
      "Lenght of coeffients:  100 \n",
      "\n",
      "\n",
      "Lenght of intercepts:  8 \n",
      "\n",
      " [-1.34190471  1.25673612 -0.21054448 -0.77786111  0.08261075  0.14100634\n",
      " -0.33788226  1.18783935]\n",
      "\n",
      "Most important features\n",
      " \n",
      "Anger:\n",
      "\n",
      "\t-1.0669\tday            \t\t0.9733\tfoods          \n",
      "\t-0.8365\tdoctor         \t\t0.9020\tdid            \n",
      "\t-0.6768\tlife           \t\t0.7482\tright          \n",
      "\t-0.6620\tdon            \t\t0.7437\toverweight     \n",
      "\t-0.6167\treally         \t\t0.7332\tjust           \n",
      "\n",
      "Anticipation:\n",
      "\n",
      "\t-1.0275\tyears          \t\t0.8260\tday            \n",
      "\t-1.0258\thi             \t\t0.6854\ttaking         \n",
      "\t-0.6307\tcarbs          \t\t0.6441\treally         \n",
      "\t-0.5785\tobesity        \t\t0.6361\tlifestyle      \n",
      "\t-0.5608\tdr             \t\t0.5456\tdon            \n",
      "\n",
      "Disgust:\n",
      "\n",
      "\t-0.9837\tpeople         \t\t0.9206\tyears          \n",
      "\t-0.8741\tadvice         \t\t0.9108\tforum          \n",
      "\t-0.8640\tmake           \t\t0.8845\tsaid           \n",
      "\t-0.8590\tdon            \t\t0.7984\tblood          \n",
      "\t-0.8509\tago            \t\t0.7896\tdiabetics      \n",
      "\n",
      "Fear:\n",
      "\n",
      "\t-1.1092\tright          \t\t1.2410\tmake           \n",
      "\t-0.9777\tdiabetic       \t\t0.9679\texercise       \n",
      "\t-0.8889\tforum          \t\t0.9263\thigh           \n",
      "\t-0.7229\tlike           \t\t0.8512\thttp           \n",
      "\t-0.6843\ttaking         \t\t0.8358\tcarbs          \n",
      "\n",
      "Joy:\n",
      "\n",
      "\t-1.2750\texercise       \t\t1.2111\tlost           \n",
      "\t-1.0870\tmonths         \t\t0.9785\tdoctor         \n",
      "\t-0.9492\tmedication     \t\t0.8218\tlike           \n",
      "\t-0.9350\tbetter         \t\t0.7523\tday            \n",
      "\t-0.8810\tcarbs          \t\t0.6746\tcontrol        \n",
      "\n",
      "Sadness:\n",
      "\n",
      "\t-1.0009\tnormal         \t\t1.0018\tknow           \n",
      "\t-0.7776\thttp           \t\t0.9847\tsay            \n",
      "\t-0.6540\tlost           \t\t0.8482\tobesity        \n",
      "\t-0.5305\tlot            \t\t0.7988\tfood           \n",
      "\t-0.4758\twork           \t\t0.7848\tfamily         \n",
      "\n",
      "Surprise:\n",
      "\n",
      "\t-1.2140\tday            \t\t1.1394\tmedication     \n",
      "\t-1.0260\tthings         \t\t0.8859\tnew            \n",
      "\t-0.9577\tweight         \t\t0.8693\tway            \n",
      "\t-0.9119\teating         \t\t0.8533\thaving         \n",
      "\t-0.9058\tt2             \t\t0.8531\tdoes           \n",
      "\n",
      "Trust:\n",
      "\n",
      "\t-0.8208\tfeel           \t\t1.0297\tlot            \n",
      "\t-0.6148\tsay            \t\t0.7693\tmonths         \n",
      "\t-0.5620\ttime           \t\t0.7333\trecently       \n",
      "\t-0.5379\tfamily         \t\t0.7037\tdon            \n",
      "\t-0.5276\tgetting        \t\t0.6443\tday            \n",
      "+------------------------------------------------------------+-----------+--------+----------+---------+\n",
      "|                           Label                            | Precision | Recall | f1-score | support |\n",
      "+------------------------------------------------------------+-----------+--------+----------+---------+\n",
      "|                   Alternative Treatment                    |    0.0    |  0.0   |   0.0    |    1    |\n",
      "|                     Clinical Treatment                     |   0.569   | 0.433  |  0.492   |    67   |\n",
      "|                         Diagnosis                          |   0.667   |  0.2   |  0.308   |    10   |\n",
      "|              Living with diabetes - Exercise               |   0.786   | 0.431  |  0.557   |    51   |\n",
      "| Living with diabetes - Lifestyle; Social and Psychological |   0.408   | 0.583  |   0.48   |    72   |\n",
      "|              Living with diabetes - Nutrition              |   0.654   | 0.838  |  0.735   |    99   |\n",
      "|               Relatives of diabetes patients               |    0.0    |  0.0   |   0.0    |    12   |\n",
      "|                        Undiagnosed                         |   0.455   | 0.444  |  0.449   |    45   |\n",
      "|                         micro avg                          |   0.555   | 0.555  |  0.555   |   357   |\n",
      "|                         macro avg                          |   0.442   | 0.366  |  0.378   |   357   |\n",
      "|                        weighted avg                        |   0.558   | 0.555  |  0.538   |   357   |\n",
      "+------------------------------------------------------------+-----------+--------+----------+---------+ \n",
      "\n",
      "\n",
      "Lenght of coeffients:  100 \n",
      "\n",
      "\n",
      "Lenght of intercepts:  8 \n",
      "\n",
      " [-1.85224783  0.52500968 -0.60515133  0.15739532  1.41326043  0.87386958\n",
      " -0.93832788  0.42619202]\n",
      "\n",
      "Most important features\n",
      " \n",
      "Alternative Treatment:\n",
      "\n",
      "\t-0.6347\tdiagnosed      \t\t1.2520\thelp           \n",
      "\t-0.4153\tlike           \t\t0.9296\tfood           \n",
      "\t-0.4086\tdiet           \t\t0.8987\tloss           \n",
      "\t-0.3774\thigh           \t\t0.8980\tjust           \n",
      "\t-0.3701\tknow           \t\t0.7006\tnew            \n",
      "\n",
      "Clinical Treatment:\n",
      "\n",
      "\t-1.6482\tdiet           \t\t2.9897\tmetformin      \n",
      "\t-1.3308\tfat            \t\t1.9670\tmeds           \n",
      "\t-1.0780\tsugar          \t\t1.4784\tinsulin        \n",
      "\t-1.0323\tresistance     \t\t1.4508\tsurgery        \n",
      "\t-0.9810\tdiabetes       \t\t1.3615\ttaking         \n",
      "\n",
      "Diagnosis :\n",
      "\n",
      "\t-0.8447\tmetformin      \t\t3.1417\tdiagnosed      \n",
      "\t-0.8321\tyears          \t\t1.4039\tgot            \n",
      "\t-0.8170\tdiet           \t\t1.3494\thello          \n",
      "\t-0.7958\teat            \t\t1.2072\thi             \n",
      "\t-0.7505\tinsulin        \t\t0.8639\tdoctor         \n",
      "\n",
      "Living with diabetes - Exercise:\n",
      "\n",
      "\t-1.3317\ttype           \t\t6.2088\texercise       \n",
      "\t-0.9756\tdiabetes       \t\t1.7946\tdiet           \n",
      "\t-0.8543\tfamily         \t\t1.6945\teat            \n",
      "\t-0.8225\tlike           \t\t1.3958\tlifestyle      \n",
      "\t-0.7658\tdiagnosed      \t\t1.1715\tbody           \n",
      "\n",
      "Living with diabetes - Lifestyle; Social and Psychological:\n",
      "\n",
      "\t-2.2189\tdiet           \t\t1.0399\tproblems       \n",
      "\t-1.2156\tfoods          \t\t0.9457\tyear           \n",
      "\t-1.1972\tcause          \t\t0.8595\tlifestyle      \n",
      "\t-1.1771\tcarbs          \t\t0.8044\thi             \n",
      "\t-1.1675\tsugar          \t\t0.7784\tyears          \n",
      "\n",
      "Living with diabetes - Nutrition:\n",
      "\n",
      "\t-2.8597\texercise       \t\t4.3817\tdiet           \n",
      "\t-1.1413\tsymptoms       \t\t2.7477\teating         \n",
      "\t-0.9259\tbody           \t\t2.3406\tcarbs          \n",
      "\t-0.9023\told            \t\t2.1071\tfood           \n",
      "\t-0.8703\thaving         \t\t2.0671\teat            \n",
      "\n",
      "Relatives of diabetes patients:\n",
      "\n",
      "\t-0.8468\ttime           \t\t2.5606\tfamily         \n",
      "\t-0.7640\trisk           \t\t1.5691\tdiabetic       \n",
      "\t-0.6135\tneed           \t\t1.4391\ttype           \n",
      "\t-0.5510\tmetformin      \t\t1.3511\tknow           \n",
      "\t-0.5047\thttp           \t\t1.2112\tdon            \n",
      "\n",
      "Undiagnosed:\n",
      "\n",
      "\t-1.3753\tdiagnosed      \t\t1.4566\tobesity        \n",
      "\t-1.2205\ttaking         \t\t1.3595\tdiabetes       \n",
      "\t-1.2069\thi             \t\t1.3127\tsymptoms       \n",
      "\t-1.0863\tday            \t\t1.1200\tdoes           \n",
      "\t-1.0235\tmeds           \t\t1.0716\tresistance     \n"
     ]
    }
   ],
   "source": [
    "def CreatePrettyTableLRMeasuresInfo(corpus, corpus_pipeline, yTest, predictions):\n",
    "    \"\"\"\n",
    "    Creates a pretty table with the measures info for the specified corpora.\n",
    "    \"\"\"\n",
    "    measures_info = metrics.classification_report(yTest, predictions, output_dict=True)\n",
    "    tab = PrettyTable(['Label', 'Precision', 'Recall', 'f1-score', 'support'])\n",
    "    \n",
    "    for key, value in measures_info.items():\n",
    "        if key.isdigit():\n",
    "            label = get_key_categories(CreateDocumentsLabels(corpus)[2], key)\n",
    "            tab.add_row([label, round(value['precision'],3), round(value['recall'],3), round(value['f1-score'],3), value['support']])\n",
    "        else:\n",
    "            tab.add_row([key, round(value['precision'],3), round(value['recall'],3), round(value['f1-score'],3), value['support']])\n",
    "    print(tab,\"\\n\")\n",
    "\n",
    "    vectorizer = corpus_pipeline.named_steps['vect']\n",
    "    clf = corpus_pipeline.named_steps['clf']\n",
    "    feature_names = vectorizer.get_feature_names()\n",
    "    imp_features = get_most_informative_features(clf, vectorizer,list(CreateDocumentsLabels(corpus)[2]), 10)\n",
    "    print('\\nLenght of coeffients: ', len(clf.coef_[0]), '\\n\\n') # also print clf.coef_ optionally\n",
    "    print('Lenght of intercepts: ', len(clf.intercept_), '\\n\\n', clf.intercept_)\n",
    "    print('\\nMost important features\\n', imp_features)\n",
    "\n",
    "\n",
    "CreatePrettyTableLRMeasuresInfo(emotions_corpus, emotions_LRpipeline, emotions_yTest, emotions_LRpredictions)\n",
    "CreatePrettyTableLRMeasuresInfo(journey_corpus, journey_LRpipeline, journey_yTest, journey_LRpredictions)        "
   ]
  },
  {
   "cell_type": "markdown",
   "metadata": {},
   "source": [
    "## Alternative method for Naive Bayes"
   ]
  },
  {
   "cell_type": "code",
   "execution_count": 31,
   "metadata": {},
   "outputs": [
    {
     "name": "stdout",
     "output_type": "stream",
     "text": [
      "3046 340 3386\n"
     ]
    }
   ],
   "source": [
    "def CreateTrainTestSet(featuresets, index):\n",
    "    \"\"\"\n",
    "    Creates a training set starting at index. \n",
    "    And a test set ending at intex.\n",
    "    \"\"\" \n",
    "    # Used index because different corpora have different length feature sets. \n",
    "    train_set= featuresets[index:]\n",
    "    test_set= featuresets[:index]\n",
    "    return (train_set, test_set)\n",
    "\n",
    "# I tried to roughly give the training sets and test sets 90% and 10% respectively, by approximating the index. \n",
    "emotions_train_set, emotions_test_set = CreateTrainTestSet(emotion_featuresets, 340)[0], CreateTrainTestSet(emotion_featuresets, 340)[1]\n",
    "journey_train_set, journey_test_set = CreateTrainTestSet(journey_featuresets, 140)[0], CreateTrainTestSet(journey_featuresets, 140)[1]\n",
    "# Testing\n",
    "l1 = len(emotions_train_set)\n",
    "l2 = len(emotions_test_set)\n",
    "print(l1,l2,l1+l2)"
   ]
  },
  {
   "cell_type": "markdown",
   "metadata": {},
   "source": [
    "### Training Naive Bayes Classifier\n",
    "Now I have everything I need to get started with the supervised learning process. through training."
   ]
  },
  {
   "cell_type": "code",
   "execution_count": 36,
   "metadata": {},
   "outputs": [],
   "source": [
    "NB_emotions = nltk.NaiveBayesClassifier.train(emotions_train_set)\n",
    "NB_journey = nltk.NaiveBayesClassifier.train(journey_train_set)"
   ]
  },
  {
   "cell_type": "code",
   "execution_count": 44,
   "metadata": {},
   "outputs": [
    {
     "name": "stdout",
     "output_type": "stream",
     "text": [
      "Accuracy of Multinomial Naibe Bayes on Emotions corpus:  0.17352941176470588\n",
      "Most Informative Features\n",
      "         contains(shift) = True            Anger : Trust  =     22.0 : 1.0\n",
      "      contains(reaction) = True            Anger : Trust  =     22.0 : 1.0\n",
      "          contains(hold) = True            Anger : Trust  =     22.0 : 1.0\n",
      "         contains(local) = True            Anger : Trust  =     22.0 : 1.0\n",
      "         contains(lover) = True            Anger : Trust  =     22.0 : 1.0\n",
      "    contains(discussion) = True            Anger : Trust  =     22.0 : 1.0\n",
      "         contains(bacon) = True            Anger : Trust  =     22.0 : 1.0\n",
      "   contains(progression) = True            Anger : Trust  =     22.0 : 1.0\n",
      "         contains(crazy) = True             Fear : Trust  =     20.1 : 1.0\n",
      "        contains(stated) = True             Fear : Trust  =     20.1 : 1.0\n",
      "            contains(38) = True             Fear : Trust  =     20.1 : 1.0\n",
      "    contains(incredibly) = True            Anger : Antici =     17.7 : 1.0\n",
      "           contains(2nd) = True            Anger : Antici =     17.7 : 1.0\n",
      "      contains(prandial) = True            Anger : Antici =     17.7 : 1.0\n",
      "    contains(motivation) = True            Anger : Antici =     17.7 : 1.0\n",
      "          contains(flow) = True            Anger : Antici =     17.7 : 1.0\n",
      "         contains(story) = True            Anger : Antici =     17.7 : 1.0\n",
      "          contains(zero) = True             Fear : Trust  =     14.4 : 1.0\n",
      "         contains(costs) = True             Fear : Trust  =     14.4 : 1.0\n",
      "        contains(skinny) = True             Fear : Trust  =     14.4 : 1.0\n",
      "       contains(suppose) = True             Fear : Trust  =     14.4 : 1.0\n",
      "            contains(42) = True             Fear : Trust  =     14.4 : 1.0\n",
      "        contains(gluten) = True           Surpri : Antici =     13.5 : 1.0\n",
      "   contains(assumptions) = True            Anger : Trust  =     13.2 : 1.0\n",
      "          contains(john) = True            Anger : Trust  =     13.2 : 1.0\n",
      "           contains(20s) = True            Anger : Trust  =     13.2 : 1.0\n",
      "     contains(expecting) = True            Anger : Trust  =     13.2 : 1.0\n",
      "             contains(b) = True            Anger : Trust  =     13.2 : 1.0\n",
      "             contains(n) = True            Anger : Trust  =     13.2 : 1.0\n",
      "       contains(classes) = True            Anger : Trust  =     13.2 : 1.0\n",
      "     contains(digestive) = True            Anger : Trust  =     13.2 : 1.0\n",
      "            contains(97) = True            Anger : Trust  =     13.2 : 1.0\n",
      "      contains(revealed) = True            Anger : Trust  =     13.2 : 1.0\n",
      "       contains(sitting) = True            Anger : Trust  =     13.2 : 1.0\n",
      "       contains(written) = True            Anger : Trust  =     13.2 : 1.0\n",
      "          contains(pcos) = True            Anger : Trust  =     13.2 : 1.0\n",
      "        contains(......) = True            Anger : Trust  =     13.2 : 1.0\n",
      "         contains(waist) = True            Anger : Trust  =     13.2 : 1.0\n",
      "        contains(script) = True            Anger : Trust  =     13.2 : 1.0\n",
      "       contains(cycling) = True            Anger : Trust  =     13.2 : 1.0\n",
      "          contains(whom) = True            Anger : Trust  =     13.2 : 1.0\n",
      "         contains(claim) = True            Anger : Trust  =     13.2 : 1.0\n",
      "  contains(deteriorated) = True            Anger : Trust  =     13.2 : 1.0\n",
      "      contains(pharmacy) = True            Anger : Trust  =     13.2 : 1.0\n",
      " contains(interventions) = True            Anger : Trust  =     13.2 : 1.0\n",
      "      contains(reversal) = True            Anger : Trust  =     13.2 : 1.0\n",
      "       contains(deficit) = True            Anger : Trust  =     13.2 : 1.0\n",
      "          contains(base) = True            Anger : Trust  =     13.2 : 1.0\n",
      "        contains(coping) = True            Anger : Trust  =     13.2 : 1.0\n",
      "     contains(primarily) = True            Anger : Trust  =     13.2 : 1.0\n",
      "         contains(store) = True            Anger : Trust  =     13.2 : 1.0\n",
      "    contains(production) = True            Anger : Trust  =     13.2 : 1.0\n",
      "        contains(stages) = True            Anger : Trust  =     13.2 : 1.0\n",
      "        contains(starch) = True            Anger : Trust  =     13.2 : 1.0\n",
      "          contains(hate) = True            Anger : Trust  =     13.2 : 1.0\n",
      "  contains(explanations) = True            Anger : Trust  =     13.2 : 1.0\n",
      "   contains(gallbladder) = True            Anger : Trust  =     13.2 : 1.0\n",
      "       contains(anaemia) = True            Anger : Trust  =     13.2 : 1.0\n",
      "     contains(typically) = True            Anger : Trust  =     13.2 : 1.0\n",
      "       contains(october) = True            Anger : Trust  =     13.2 : 1.0\n",
      "      contains(powerful) = True            Anger : Trust  =     13.2 : 1.0\n",
      "         contains(plant) = True            Anger : Trust  =     13.2 : 1.0\n",
      "      contains(keywords) = True            Anger : Trust  =     13.2 : 1.0\n",
      "      contains(relevant) = True            Anger : Trust  =     13.2 : 1.0\n",
      "          contains(game) = True            Anger : Trust  =     13.2 : 1.0\n",
      "      contains(reverses) = True            Anger : Trust  =     13.2 : 1.0\n",
      "         contains(bowel) = True            Anger : Trust  =     13.2 : 1.0\n",
      "       contains(closely) = True            Anger : Trust  =     13.2 : 1.0\n",
      "          contains(wood) = True            Anger : Trust  =     13.2 : 1.0\n",
      "           contains(qid) = True            Anger : Trust  =     13.2 : 1.0\n",
      "        contains(amazon) = True            Anger : Trust  =     13.2 : 1.0\n",
      "         contains(throw) = True            Anger : Trust  =     13.2 : 1.0\n",
      "         contains(sharp) = True            Anger : Trust  =     13.2 : 1.0\n",
      "      contains(industry) = True            Anger : Trust  =     13.2 : 1.0\n",
      "   contains(vegetarians) = True            Anger : Trust  =     13.2 : 1.0\n",
      "    contains(altogether) = True            Anger : Trust  =     13.2 : 1.0\n",
      "        contains(action) = True            Anger : Trust  =     13.2 : 1.0\n",
      " contains(empagliflozin) = True            Anger : Trust  =     13.2 : 1.0\n",
      "       contains(quickly) = True           Surpri : Antici =     12.4 : 1.0\n",
      "        contains(denial) = True           Disgus : Antici =     12.1 : 1.0\n",
      "          contains(pump) = True             Fear : Trust  =     12.1 : 1.0\n",
      "      contains(guidance) = True             Fear : Trust  =     12.1 : 1.0\n",
      "      contains(adequate) = True           Surpri : Trust  =     12.0 : 1.0\n",
      "     contains(healthily) = True           Surpri : Trust  =     12.0 : 1.0\n",
      "           contains(wow) = True           Surpri : Trust  =     12.0 : 1.0\n",
      "      contains(cramping) = True           Surpri : Trust  =     12.0 : 1.0\n",
      "       contains(unusual) = True           Surpri : Trust  =     12.0 : 1.0\n",
      "     contains(therefore) = True           Surpri : Trust  =     12.0 : 1.0\n",
      "        contains(looked) = True             Fear : Antici =     11.5 : 1.0\n",
      "          contains(eyes) = True             Fear : Antici =     11.5 : 1.0\n",
      "  contains(intervention) = True             Fear : Antici =     11.5 : 1.0\n",
      "       contains(balance) = True             Fear : Antici =     11.5 : 1.0\n",
      "        contains(versus) = True             Fear : Antici =     11.5 : 1.0\n",
      "       contains(highest) = True             Fear : Antici =     11.5 : 1.0\n",
      "          contains(oils) = True             Fear : Antici =     11.5 : 1.0\n",
      "     contains(nutrients) = True             Fear : Antici =     11.5 : 1.0\n",
      "       contains(special) = True             Fear : Antici =     11.5 : 1.0\n",
      "          contains(burn) = True             Fear : Antici =     11.5 : 1.0\n",
      "       contains(survive) = True             Fear : Antici =     11.5 : 1.0\n",
      "         contains(sight) = True             Fear : Antici =     11.5 : 1.0\n"
     ]
    }
   ],
   "source": [
    "print(\"Accuracy of Multinomial Naibe Bayes on Emotions corpus: \",nltk.classify.accuracy(NB_emotions, emotions_test_set)) \n",
    "NB_emotions.show_most_informative_features(100)"
   ]
  },
  {
   "cell_type": "markdown",
   "metadata": {},
   "source": [
    "So the feature \"quickly\" appears in Surprise texts 12.4 times more than in Anticipation texts. That makes sense. Baccon is one of the features most associated with anger. After a simpel Google search of \"diabetes baccon\", one can quickly find out that bacon is one of the worst dishes for people suffering of this condition. Crazy is commonly associated with Fear (\"I am going crazy\" type of expressions might be common.) "
   ]
  },
  {
   "cell_type": "code",
   "execution_count": 45,
   "metadata": {},
   "outputs": [
    {
     "name": "stdout",
     "output_type": "stream",
     "text": [
      "Accuracy of Multinomial Naibe Bayes on Journey corpus:  0.42857142857142855\n",
      "Most Informative Features\n",
      "     contains(therapies) = True           Altern : Living =     53.5 : 1.0\n",
      "        contains(called) = True           Altern : Living =     41.2 : 1.0\n",
      "       contains(natural) = True           Altern : Living =     35.1 : 1.0\n",
      "    contains(treatments) = True           Altern : Living =     35.1 : 1.0\n",
      "        contains(bitter) = True           Altern : Living =     32.1 : 1.0\n",
      "          contains(open) = True           Altern : Living =     32.1 : 1.0\n",
      "    contains(additional) = True           Altern : Living =     32.1 : 1.0\n",
      "      contains(improves) = True           Altern : Living =     32.1 : 1.0\n",
      "    contains(colleagues) = True           Altern : Living =     32.1 : 1.0\n",
      "         contains(india) = True           Altern : Living =     32.1 : 1.0\n",
      "          contains(onto) = True           Altern : Living =     32.1 : 1.0\n",
      "        contains(nausea) = True           Altern : Living =     32.1 : 1.0\n",
      "          contains(heal) = True           Altern : Living =     32.1 : 1.0\n",
      "            contains(35) = True           Altern : Living =     32.1 : 1.0\n",
      "         contains(bones) = True           Altern : Living =     32.1 : 1.0\n",
      "      contains(guidance) = True           Altern : Living =     32.1 : 1.0\n",
      "       contains(failing) = True           Altern : Living =     32.1 : 1.0\n",
      "      contains(approved) = True           Altern : Living =     32.1 : 1.0\n",
      "      contains(switched) = True           Altern : Living =     32.1 : 1.0\n",
      "         contains(melon) = True           Altern : Living =     32.1 : 1.0\n",
      "        contains(offers) = True           Altern : Living =     32.1 : 1.0\n",
      "    contains(interested) = True           Altern : Living =     32.1 : 1.0\n",
      "     contains(professor) = True           Altern : Living =     32.1 : 1.0\n",
      "      contains(addition) = True           Altern : Living =     32.1 : 1.0\n",
      "   contains(effectively) = True           Altern : Living =     32.1 : 1.0\n",
      "        contains(modest) = True           Altern : Living =     32.1 : 1.0\n",
      "            contains(44) = True           Altern : Living =     32.1 : 1.0\n",
      "     contains(naturally) = True           Altern : Living =     32.1 : 1.0\n",
      "      contains(exercise) = True           Living : Undiag =     29.4 : 1.0\n",
      "       contains(product) = True           Altern : Clinic =     27.5 : 1.0\n",
      "         contains(shown) = True           Altern : Clinic =     27.5 : 1.0\n",
      "          contains(free) = True           Altern : Undiag =     24.4 : 1.0\n",
      "          contains(book) = True           Altern : Living =     23.2 : 1.0\n",
      "          contains(carb) = True           Living : Living =     21.2 : 1.0\n",
      "       contains(illness) = True           Altern : Living =     21.1 : 1.0\n",
      "        contains(charge) = True           Altern : Living =     21.1 : 1.0\n",
      "   contains(combination) = True           Altern : Living =     21.1 : 1.0\n",
      "   contains(controlling) = True           Altern : Living =     21.1 : 1.0\n",
      "     contains(secretion) = True           Altern : Living =     21.1 : 1.0\n",
      "            contains(45) = True           Altern : Living =     21.1 : 1.0\n",
      "     contains(metabolic) = True           Altern : Living =     21.1 : 1.0\n",
      "          contains(gone) = True           Altern : Living =     21.1 : 1.0\n",
      "          contains(oral) = True           Altern : Living =     21.1 : 1.0\n",
      "          contains(site) = True           Altern : Living =     21.1 : 1.0\n",
      "       contains(improve) = True           Altern : Living =     21.1 : 1.0\n",
      "         contains(lower) = True           Altern : Living =     21.1 : 1.0\n",
      "       contains(various) = True           Altern : Living =     21.1 : 1.0\n",
      "          contains(show) = True           Altern : Living =     21.1 : 1.0\n",
      "      contains(included) = True           Altern : Living =     21.1 : 1.0\n",
      "          contains(aren) = True           Altern : Living =     21.1 : 1.0\n",
      "          contains(best) = True           Altern : Living =     21.1 : 1.0\n",
      "       contains(partner) = True           Altern : Living =     21.1 : 1.0\n",
      "         contains(loads) = True           Altern : Living =     21.1 : 1.0\n",
      "        contains(seeing) = True           Altern : Living =     21.1 : 1.0\n",
      "     contains(remission) = True           Altern : Living =     21.1 : 1.0\n",
      "         contains(added) = True           Altern : Living =     21.1 : 1.0\n",
      "        contains(future) = True           Altern : Living =     21.1 : 1.0\n",
      "      contains(increase) = True           Altern : Living =     21.1 : 1.0\n",
      "      contains(glycemic) = True           Altern : Living =     21.1 : 1.0\n",
      "       contains(patient) = True           Altern : Living =     21.1 : 1.0\n",
      "        contains(adding) = True           Altern : Living =     21.1 : 1.0\n",
      "          contains(plus) = True           Altern : Living =     21.1 : 1.0\n",
      "       contains(whether) = True           Altern : Living =     21.1 : 1.0\n",
      "     contains(effective) = True           Altern : Living =     21.1 : 1.0\n",
      "          contains(!!!.) = True           Altern : Living =     21.1 : 1.0\n",
      "       contains(studies) = True           Altern : Living =     21.1 : 1.0\n",
      "       contains(keeping) = True           Altern : Living =     21.1 : 1.0\n",
      "       contains(balance) = True           Altern : Living =     21.1 : 1.0\n",
      "      contains(entirely) = True           Altern : Living =     21.1 : 1.0\n",
      "         contains(stuff) = True           Altern : Living =     21.1 : 1.0\n",
      "         contains(takes) = True           Altern : Living =     21.1 : 1.0\n",
      "         contains(upset) = True           Altern : Living =     21.1 : 1.0\n",
      "        contains(bloods) = True           Altern : Living =     21.1 : 1.0\n",
      "          contains(head) = True           Diagno : Living =     20.6 : 1.0\n",
      "        contains(honest) = True           Diagno : Living =     20.6 : 1.0\n",
      "          contains(food) = True           Living : Living =     19.9 : 1.0\n",
      "     contains(metformin) = True           Clinic : Undiag =     19.3 : 1.0\n",
      "          contains(drug) = True           Altern : Living =     19.2 : 1.0\n",
      "     contains(expensive) = True           Altern : Living =     19.2 : 1.0\n",
      "   contains(sitagliptin) = True           Altern : Living =     19.2 : 1.0\n",
      "       contains(perfect) = True           Altern : Living =     19.2 : 1.0\n",
      "          contains(slim) = True           Altern : Living =     19.2 : 1.0\n",
      "   contains(development) = True           Altern : Living =     19.2 : 1.0\n",
      "          contains(vast) = True           Altern : Living =     19.2 : 1.0\n",
      "       contains(ability) = True           Altern : Living =     19.2 : 1.0\n",
      "      contains(maintain) = True           Altern : Living =     19.2 : 1.0\n",
      "        contains(simply) = True           Altern : Living =     19.2 : 1.0\n",
      "       contains(waiting) = True           Altern : Living =     19.2 : 1.0\n",
      "      contains(appetite) = True           Altern : Living =     19.2 : 1.0\n",
      "          contains(note) = True           Altern : Living =     19.2 : 1.0\n",
      "       contains(profile) = True           Altern : Living =     19.2 : 1.0\n",
      "        contains(afraid) = True           Relati : Living =     19.1 : 1.0\n",
      "         contains(shock) = True           Diagno : Living =     17.9 : 1.0\n",
      "          contains(diet) = True           Living : Diagno =     17.5 : 1.0\n",
      "         contains(carbs) = True           Living : Clinic =     17.3 : 1.0\n",
      "     contains(treatment) = True           Altern : Living =     17.3 : 1.0\n",
      "          contains(name) = True           Diagno : Living =     16.9 : 1.0\n",
      "       contains(fasting) = True           Diagno : Living =     16.6 : 1.0\n",
      "       contains(reverse) = True           Altern : Clinic =     16.5 : 1.0\n",
      "       contains(prevent) = True           Altern : Clinic =     16.5 : 1.0\n"
     ]
    }
   ],
   "source": [
    "print(\"Accuracy of Multinomial Naibe Bayes on Journey corpus: \",nltk.classify.accuracy(NB_journey, journey_test_set)) \n",
    "NB_journey.show_most_informative_features(100)"
   ]
  },
  {
   "cell_type": "markdown",
   "metadata": {},
   "source": [
    "India is a very common word in alternative treatment comments, which makes sense, knowing that many spiritual healers and gurus hail their knowledge from sacred Indian traditions. Bitter might also be a word associated with the alternative medicine. The same foes for \"natural\"."
   ]
  },
  {
   "cell_type": "markdown",
   "metadata": {},
   "source": [
    "### Testing the classifier\n",
    "The first sample comment is hand written by me and it tests what the classifier does with it. The result is Anticipation."
   ]
  },
  {
   "cell_type": "code",
   "execution_count": 39,
   "metadata": {},
   "outputs": [
    {
     "name": "stdout",
     "output_type": "stream",
     "text": [
      "Result of sample comment:  Anticipation\n"
     ]
    }
   ],
   "source": [
    "sample_comment = 'i have diabetes and I am so happy but you see the thing is I hate not being able to eat bacon anymore.'\n",
    "\n",
    "sample_comment_feats = GetDocumentFeatures(sample_comment.split(), emotions_word_features)\n",
    "\n",
    "#print('Sample comment features: \\n\\n',sample_comment_feats)\n",
    "\n",
    "print('Result of sample comment: ', NB_emotions.classify(sample_comment_feats))"
   ]
  },
  {
   "cell_type": "markdown",
   "metadata": {},
   "source": [
    "The second example uses the file that we used before, rightly putting it into the Anger class."
   ]
  },
  {
   "cell_type": "code",
   "execution_count": 41,
   "metadata": {},
   "outputs": [
    {
     "name": "stdout",
     "output_type": "stream",
     "text": [
      "Result of sample comment:  Anger\n"
     ]
    }
   ],
   "source": [
    "sample_comment = emotions_corpus.words('Anger_0cbbf7fb-6ff0-4a56-a5c9-510247c70d9d.txt')\n",
    "\n",
    "sample_comment_feats = GetDocumentFeatures(sample_comment, emotions_word_features)\n",
    "\n",
    "#print('Sample comment features: \\n\\n',sample_comment_feats)\n",
    "\n",
    "print('Result of sample comment: ', NB_emotions.classify(sample_comment_feats))"
   ]
  },
  {
   "cell_type": "markdown",
   "metadata": {},
   "source": [
    "A third example uses a hand-written sentence which is undoubtedly negative. The result is innaccurate to say the least..."
   ]
  },
  {
   "cell_type": "code",
   "execution_count": 42,
   "metadata": {},
   "outputs": [
    {
     "name": "stdout",
     "output_type": "stream",
     "text": [
      "Result of sample comment:  Trust\n"
     ]
    }
   ],
   "source": [
    "sample_comment = \"i fear for my life i don't know what to do i am so scared\"\n",
    "\n",
    "sample_comment_feats = GetDocumentFeatures(sample_comment.split(), emotions_word_features)\n",
    "\n",
    "#print('Sample comment features: \\n\\n',sample_comment_feats)\n",
    "\n",
    "print('Result of sample comment: ', NB_emotions.classify(sample_comment_feats))"
   ]
  },
  {
   "cell_type": "markdown",
   "metadata": {},
   "source": [
    "## Commenting on the performance of the classifiers"
   ]
  },
  {
   "cell_type": "code",
   "execution_count": null,
   "metadata": {},
   "outputs": [],
   "source": [
    "### MNB\n",
    "#### Emotions\n",
    "             | Precision | Recall | f1-score | support\n",
    "Anticipation |    0.25   | 0.028  |  0.051   |   247  \n",
    "   Trust     |   0.327   | 0.961  |  0.488   |   279 \n",
    "#### Journey\n",
    "                                                           | Precision | Recall | f1-score | support\n",
    "Clinical Treatment                                         |   0.688   | 0.328  |  0.444   |    67  \n",
    "Living with diabetes - Exercise                            |   0.824   | 0.275  |  0.412   |    51\n",
    "Living with diabetes - Lifestyle; Social and Psychological |   0.413   | 0.528  |  0.463   |    72\n",
    "Living with diabetes - Nutrition                           |   0.458   | 0.879  |  0.602   |    99\n",
    "Undiagnosed                                                |   0.385   | 0.222  |  0.282   |    45\n",
    "\n",
    "### LR\n",
    "#### Emotions\n",
    "             | Precision | Recall | f1-score | support\n",
    "Anticipation |   0.236   | 0.223  |  0.229   |   247\n",
    "Disgust      |    1.0    | 0.013  |  0.025   |    80\n",
    "Trust        |   0.302   | 0.659  |  0.414   |   279\n",
    "#### Journey\n",
    "                                                           | Precision | Recall | f1-score | support\n",
    "Clinical Treatment                                         |   0.569   | 0.433  |  0.492   |    67\n",
    "Diagnosis                                                  |   0.667   |  0.2   |  0.308   |    10\n",
    "Living with diabetes - Exercise                            |   0.786   | 0.431  |  0.557   |    51\n",
    "Living with diabetes - Lifestyle; Social and Psychological |   0.408   | 0.583  |  0.480   |    72 \n",
    "Living with diabetes - Nutrition                           |   0.654   | 0.838  |  0.735   |    99\n",
    "Undiagnosed                                                |   0.455   | 0.444  |  0.449   |    45"
   ]
  },
  {
   "cell_type": "markdown",
   "metadata": {},
   "source": [
    "Generally, LR has greater f1-scores on the classes. It also manages to capture more classes (Disgust for Emotions and Diagnosis for Journey).\n",
    "\n",
    "Regarding the accuracy of the models used in the pipelines:\n",
    "\n",
    "Accuracy of Emotions NB : 0.3246753246753247; Accuracy of Journey NB : 0.4789915966386555\n",
    "\n",
    "Accuracy of Emotions LR : 0.2833530106257379; Accuracy of Journey LR : 0.5546218487394958\n",
    "\n",
    "LR scores higher for Journey but lower for Emotions. Generally, the models score much lower for Emotions than for Journey.\n",
    "\n",
    "The most important features presented above from the pretty table functions are strikingly different between NB and LR."
   ]
  }
 ],
 "metadata": {
  "kernelspec": {
   "display_name": "Python 3",
   "language": "python",
   "name": "python3"
  },
  "language_info": {
   "codemirror_mode": {
    "name": "ipython",
    "version": 3
   },
   "file_extension": ".py",
   "mimetype": "text/x-python",
   "name": "python",
   "nbconvert_exporter": "python",
   "pygments_lexer": "ipython3",
   "version": "3.7.1"
  }
 },
 "nbformat": 4,
 "nbformat_minor": 2
}
