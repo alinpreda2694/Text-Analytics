{
 "cells": [
  {
   "cell_type": "code",
   "execution_count": 1,
   "metadata": {},
   "outputs": [],
   "source": [
    "import numpy as np\n",
    "import pandas as pd\n",
    "import seaborn as sns\n",
    "import matplotlib.pyplot as plt\n",
    "import nltk\n",
    "from sklearn.feature_extraction.text import CountVectorizer\n",
    "from sklearn.feature_extraction.text import TfidfVectorizer\n",
    "from nltk.corpus import stopwords\n",
    "from nltk.stem.porter import PorterStemmer\n",
    "from wordcloud import WordCloud,STOPWORDS\n",
    "from nltk.stem import WordNetLemmatizer\n",
    "from nltk.tokenize import word_tokenize,sent_tokenize\n",
    "from bs4 import BeautifulSoup\n",
    "import spacy\n",
    "import re,string,unicodedata\n",
    "from nltk.tokenize.toktok import ToktokTokenizer\n",
    "from nltk.stem import LancasterStemmer,WordNetLemmatizer\n",
    "from textblob import TextBlob\n",
    "from sklearn.metrics import accuracy_score\n",
    "import re\n",
    "import warnings\n",
    "import os\n",
    "import pickle\n",
    "os.chdir(r\"C:\\Users\\aleen\\Desktop\\Data Science\\Text Analytics\\Exam Project\\Data\\IMDB\")\n",
    "warnings.filterwarnings('ignore')"
   ]
  },
  {
   "cell_type": "markdown",
   "metadata": {},
   "source": [
    "## Import the Data"
   ]
  },
  {
   "cell_type": "code",
   "execution_count": 2,
   "metadata": {},
   "outputs": [],
   "source": [
    "df = pd.read_csv('imdb50k.csv')\n",
    "df.drop_duplicates(inplace=True)"
   ]
  },
  {
   "cell_type": "markdown",
   "metadata": {},
   "source": [
    "## EDA"
   ]
  },
  {
   "cell_type": "code",
   "execution_count": 3,
   "metadata": {},
   "outputs": [
    {
     "data": {
      "text/plain": [
       "positive    0.501876\n",
       "negative    0.498124\n",
       "Name: sentiment, dtype: float64"
      ]
     },
     "execution_count": 3,
     "metadata": {},
     "output_type": "execute_result"
    }
   ],
   "source": [
    "df.sentiment.value_counts(normalize=True)"
   ]
  },
  {
   "cell_type": "markdown",
   "metadata": {},
   "source": [
    "#### Obs: character length "
   ]
  },
  {
   "cell_type": "code",
   "execution_count": 4,
   "metadata": {},
   "outputs": [
    {
     "data": {
      "text/html": [
       "<div>\n",
       "<style scoped>\n",
       "    .dataframe tbody tr th:only-of-type {\n",
       "        vertical-align: middle;\n",
       "    }\n",
       "\n",
       "    .dataframe tbody tr th {\n",
       "        vertical-align: top;\n",
       "    }\n",
       "\n",
       "    .dataframe thead th {\n",
       "        text-align: right;\n",
       "    }\n",
       "</style>\n",
       "<table border=\"1\" class=\"dataframe\">\n",
       "  <thead>\n",
       "    <tr style=\"text-align: right;\">\n",
       "      <th></th>\n",
       "      <th>review</th>\n",
       "      <th>sentiment</th>\n",
       "      <th>review_length</th>\n",
       "    </tr>\n",
       "  </thead>\n",
       "  <tbody>\n",
       "    <tr>\n",
       "      <th>0</th>\n",
       "      <td>One of the other reviewers has mentioned that ...</td>\n",
       "      <td>positive</td>\n",
       "      <td>1761</td>\n",
       "    </tr>\n",
       "    <tr>\n",
       "      <th>1</th>\n",
       "      <td>A wonderful little production. &lt;br /&gt;&lt;br /&gt;The...</td>\n",
       "      <td>positive</td>\n",
       "      <td>998</td>\n",
       "    </tr>\n",
       "    <tr>\n",
       "      <th>2</th>\n",
       "      <td>I thought this was a wonderful way to spend ti...</td>\n",
       "      <td>positive</td>\n",
       "      <td>926</td>\n",
       "    </tr>\n",
       "  </tbody>\n",
       "</table>\n",
       "</div>"
      ],
      "text/plain": [
       "                                              review sentiment  review_length\n",
       "0  One of the other reviewers has mentioned that ...  positive           1761\n",
       "1  A wonderful little production. <br /><br />The...  positive            998\n",
       "2  I thought this was a wonderful way to spend ti...  positive            926"
      ]
     },
     "execution_count": 4,
     "metadata": {},
     "output_type": "execute_result"
    }
   ],
   "source": [
    "df['review_length'] = [len(t) for t in df.review]\n",
    "df.head(3)"
   ]
  },
  {
   "cell_type": "code",
   "execution_count": 5,
   "metadata": {},
   "outputs": [
    {
     "data": {
      "image/png": "[encoded data removed]",
      "text/plain": [
       "<Figure size 1152x144 with 1 Axes>"
      ]
     },
     "metadata": {
      "needs_background": "light"
     },
     "output_type": "display_data"
    }
   ],
   "source": [
    "red = dict(markerfacecolor='r', markeredgecolor='r', marker='.')\n",
    "df['review_length'].plot(kind='box', xlim=(0, 12000), vert=False, flierprops=red, figsize=(16,2));"
   ]
  },
  {
   "cell_type": "code",
   "execution_count": 6,
   "metadata": {},
   "outputs": [
    {
     "data": {
      "text/plain": [
       "<matplotlib.axes._subplots.AxesSubplot at 0x1d1a00339e8>"
      ]
     },
     "execution_count": 6,
     "metadata": {},
     "output_type": "execute_result"
    },
    {
     "data": {
      "image/png": "[encoded data removed]",
      "text/plain": [
       "<Figure size 432x288 with 1 Axes>"
      ]
     },
     "metadata": {
      "needs_background": "light"
     },
     "output_type": "display_data"
    }
   ],
   "source": [
    "sns.distplot(df.review_length)"
   ]
  },
  {
   "cell_type": "code",
   "execution_count": 7,
   "metadata": {},
   "outputs": [
    {
     "data": {
      "text/plain": [
       "231.3391150014118"
      ]
     },
     "execution_count": 7,
     "metadata": {},
     "output_type": "execute_result"
    }
   ],
   "source": [
    "df.review.apply(lambda x: len(x.split(\" \"))).mean()"
   ]
  },
  {
   "cell_type": "code",
   "execution_count": 8,
   "metadata": {},
   "outputs": [
    {
     "data": {
      "text/plain": [
       "1310.5682304061959"
      ]
     },
     "execution_count": 8,
     "metadata": {},
     "output_type": "execute_result"
    }
   ],
   "source": [
    "df.review_length.mean()"
   ]
  },
  {
   "cell_type": "markdown",
   "metadata": {},
   "source": [
    "## Pre-Processing"
   ]
  },
  {
   "cell_type": "code",
   "execution_count": 3,
   "metadata": {},
   "outputs": [],
   "source": [
    "tokenizer=ToktokTokenizer()\n",
    "stopword_list=nltk.corpus.stopwords.words('english')"
   ]
  },
  {
   "cell_type": "markdown",
   "metadata": {},
   "source": [
    "#### Functions"
   ]
  },
  {
   "cell_type": "code",
   "execution_count": 4,
   "metadata": {},
   "outputs": [],
   "source": [
    "def wordcloud(dataframe):\n",
    "    wordcloud = WordCloud(width=1600, height=800, max_font_size=200, background_color=\"black\",stopwords=stopword_list).generate(\" \".join([str(i) for i in dataframe]))\n",
    "    plt.figure(figsize = (12,10))\n",
    "    plt.imshow(wordcloud)\n",
    "    plt.axis(\"off\")\n",
    "    plt.show()\n",
    "    \n",
    "def strip_html(text):\n",
    "    soup = BeautifulSoup(text, \"html.parser\")\n",
    "    return soup.get_text()\n",
    "\n",
    "def remove_between_square_brackets(text):\n",
    "    return re.sub('\\[[^]]*\\]', '', text)\n",
    "\n",
    "def denoise_text(text):\n",
    "    text = strip_html(text)\n",
    "    text = remove_between_square_brackets(text)\n",
    "    return text\n",
    "\n",
    "def remove_accented_characters(text):\n",
    "    text=unicodedata.normalize('NFKD',text).encode('ascii','ignore').decode('utf-8','ignore')\n",
    "    return text\n",
    "\n",
    "def remove_special_characters(text, remove_digits=True):\n",
    "    if remove_digits == False:\n",
    "        pattern = r'[^a-zA-z0-9\\s]'\n",
    "    else: pattern = r'[^a-zA-z\\s]'\n",
    "    text  = re.sub(pattern,'',text)\n",
    "    return text\n",
    "\n",
    "def simple_stemmer(text):\n",
    "    ps=nltk.porter.PorterStemmer()\n",
    "    text= ' '.join([ps.stem(word) for word in text.split()])\n",
    "    return text\n",
    "\n",
    "def remove_stopwords(text, is_lower_case=False):\n",
    "    stop=set(stopwords.words('english'))\n",
    "    tokens = tokenizer.tokenize(text)\n",
    "    tokens = [token.strip() for token in tokens]\n",
    "    if is_lower_case:\n",
    "        filtered_tokens = [token for token in tokens if token not in stopword_list]\n",
    "    else:\n",
    "        filtered_tokens = [token for token in tokens if token.lower() not in stopword_list]\n",
    "    filtered_text = ' '.join(filtered_tokens)    \n",
    "    return filtered_text\n",
    "\n",
    "def lowercase(text):\n",
    "    text = text.lower()\n",
    "    return text\n",
    "    \n",
    "def tokenize_text(text):\n",
    "    text = tokenizer(text)\n",
    "    text = text.lower()\n",
    "    return text\n",
    "\n",
    "from nltk.stem import WordNetLemmatizer\n",
    "\n",
    "def lemmatize_text(text):\n",
    "    lemma = WorntLemmatizer()\n",
    "    text = ' '.join([lemma.stem(word) for word in text.split()])\n",
    "    return text\n"
   ]
  },
  {
   "cell_type": "code",
   "execution_count": 11,
   "metadata": {
    "code_folding": []
   },
   "outputs": [],
   "source": [
    "#wordcloud(df.review)"
   ]
  },
  {
   "cell_type": "code",
   "execution_count": 12,
   "metadata": {},
   "outputs": [],
   "source": [
    "#positive_reviews = [a for a in df.review == 'positive']"
   ]
  },
  {
   "cell_type": "code",
   "execution_count": 13,
   "metadata": {
    "code_folding": []
   },
   "outputs": [],
   "source": [
    "#foo = df[(df['sentiment']=='positive')]"
   ]
  },
  {
   "cell_type": "code",
   "execution_count": 14,
   "metadata": {},
   "outputs": [],
   "source": [
    "#wordcloud(foo.review)"
   ]
  },
  {
   "cell_type": "code",
   "execution_count": 15,
   "metadata": {},
   "outputs": [],
   "source": [
    "#foo = df[df['sentiment']=='negative']\n",
    "#wordcloud(foo.review)"
   ]
  },
  {
   "cell_type": "code",
   "execution_count": 5,
   "metadata": {},
   "outputs": [],
   "source": [
    "df['review'] = df['review'].apply(denoise_text)\n",
    "df['review'] = df['review'].apply(remove_accented_characters)\n",
    "df['review'] = df['review'].apply(remove_special_characters)\n",
    "df['review'] = df['review'].apply(remove_stopwords)\n",
    "df['review'] = df['review'].apply(simple_stemmer)"
   ]
  },
  {
   "cell_type": "code",
   "execution_count": 6,
   "metadata": {},
   "outputs": [],
   "source": [
    "df['review'] = df['review'].apply(lowercase)"
   ]
  },
  {
   "cell_type": "code",
   "execution_count": 18,
   "metadata": {},
   "outputs": [
    {
     "data": {
      "text/html": [
       "<div>\n",
       "<style scoped>\n",
       "    .dataframe tbody tr th:only-of-type {\n",
       "        vertical-align: middle;\n",
       "    }\n",
       "\n",
       "    .dataframe tbody tr th {\n",
       "        vertical-align: top;\n",
       "    }\n",
       "\n",
       "    .dataframe thead th {\n",
       "        text-align: right;\n",
       "    }\n",
       "</style>\n",
       "<table border=\"1\" class=\"dataframe\">\n",
       "  <thead>\n",
       "    <tr style=\"text-align: right;\">\n",
       "      <th></th>\n",
       "      <th>review</th>\n",
       "      <th>sentiment</th>\n",
       "      <th>review_length</th>\n",
       "    </tr>\n",
       "  </thead>\n",
       "  <tbody>\n",
       "    <tr>\n",
       "      <th>0</th>\n",
       "      <td>one review mention watch oz episod youll hook ...</td>\n",
       "      <td>positive</td>\n",
       "      <td>1761</td>\n",
       "    </tr>\n",
       "    <tr>\n",
       "      <th>1</th>\n",
       "      <td>wonder littl product film techniqu unassum old...</td>\n",
       "      <td>positive</td>\n",
       "      <td>998</td>\n",
       "    </tr>\n",
       "    <tr>\n",
       "      <th>2</th>\n",
       "      <td>thought wonder way spend time hot summer weeke...</td>\n",
       "      <td>positive</td>\n",
       "      <td>926</td>\n",
       "    </tr>\n",
       "    <tr>\n",
       "      <th>3</th>\n",
       "      <td>basic there famili littl boy jake think there ...</td>\n",
       "      <td>negative</td>\n",
       "      <td>748</td>\n",
       "    </tr>\n",
       "    <tr>\n",
       "      <th>4</th>\n",
       "      <td>petter mattei love time money visual stun film...</td>\n",
       "      <td>positive</td>\n",
       "      <td>1317</td>\n",
       "    </tr>\n",
       "  </tbody>\n",
       "</table>\n",
       "</div>"
      ],
      "text/plain": [
       "                                              review sentiment  review_length\n",
       "0  one review mention watch oz episod youll hook ...  positive           1761\n",
       "1  wonder littl product film techniqu unassum old...  positive            998\n",
       "2  thought wonder way spend time hot summer weeke...  positive            926\n",
       "3  basic there famili littl boy jake think there ...  negative            748\n",
       "4  petter mattei love time money visual stun film...  positive           1317"
      ]
     },
     "execution_count": 18,
     "metadata": {},
     "output_type": "execute_result"
    }
   ],
   "source": [
    "df.head()"
   ]
  },
  {
   "cell_type": "markdown",
   "metadata": {},
   "source": [
    "### Splitting"
   ]
  },
  {
   "cell_type": "code",
   "execution_count": 7,
   "metadata": {},
   "outputs": [
    {
     "name": "stdout",
     "output_type": "stream",
     "text": [
      "(40000,) (40000, 1)\n",
      "(9582,) (9582, 1)\n"
     ]
    }
   ],
   "source": [
    "reviews = df['review']\n",
    "sentiments = df['sentiment']\n",
    "\n",
    "from sklearn.preprocessing import LabelBinarizer\n",
    "lb = LabelBinarizer()\n",
    "sentiments = lb.fit_transform(sentiments)\n",
    "                    \n",
    "train_reviews = reviews[:40000]\n",
    "train_sentiments = sentiments[:40000]\n",
    "test_reviews = reviews[40000:]\n",
    "test_sentiments = sentiments[40000:]\n",
    "\n",
    "print(train_reviews.shape,train_sentiments.shape)\n",
    "print(test_reviews.shape,test_sentiments.shape)"
   ]
  },
  {
   "cell_type": "code",
   "execution_count": 20,
   "metadata": {},
   "outputs": [],
   "source": [
    "reviews.to_csv('imdb_reviews', encoding='utf-8')"
   ]
  },
  {
   "cell_type": "code",
   "execution_count": 21,
   "metadata": {},
   "outputs": [],
   "source": [
    "np.savetxt(\"imdb_sentiments.csv\", sentiments, delimiter=\",\")"
   ]
  },
  {
   "cell_type": "markdown",
   "metadata": {},
   "source": [
    "### Bag of Words"
   ]
  },
  {
   "cell_type": "code",
   "execution_count": 162,
   "metadata": {},
   "outputs": [
    {
     "name": "stdout",
     "output_type": "stream",
     "text": [
      "BOW_cv_train: (40000, 6139622)\n",
      "BOW_cv_test: (9582, 6139622)\n"
     ]
    }
   ],
   "source": [
    "cv=CountVectorizer(min_df=0,max_df=1,binary=False,ngram_range=(1,3))\n",
    "cv_train_reviews=cv.fit_transform(train_reviews)\n",
    "\n",
    "print('BOW_cv_train:',cv_train_reviews.shape)\n",
    "print('BOW_cv_test:',cv_test_reviews.shape)\n",
    "#vocab=cv.get_feature_names()-toget feature names"
   ]
  },
  {
   "cell_type": "code",
   "execution_count": 163,
   "metadata": {},
   "outputs": [],
   "source": [
    "pickle.dump(cv.vocabulary_,open(\"cv.pkl\",\"wb\"))"
   ]
  },
  {
   "cell_type": "code",
   "execution_count": 18,
   "metadata": {},
   "outputs": [],
   "source": [
    "from sklearn.feature_extraction.text import TfidfTransformer\n",
    "transformer = TfidfTransformer()\n",
    "loaded_vec = CountVectorizer(decode_error=\"replace\",vocabulary=pickle.load(open(\"cv.pkl\", \"rb\")))\n",
    "#tv_train_reviews = transformer.fit_transform(loaded_vec.fit_transform(train_reviews))\n",
    "#tv_test_reviews = transformer.fit_transform(loaded_vec.fit_transform(test_reviews))\n",
    "tv_got_reviews = transformer.fit_transform(loaded_vec.fit_transform(got_reviews))"
   ]
  },
  {
   "cell_type": "markdown",
   "metadata": {},
   "source": [
    "### TF IDF"
   ]
  },
  {
   "cell_type": "code",
   "execution_count": 8,
   "metadata": {},
   "outputs": [
    {
     "name": "stdout",
     "output_type": "stream",
     "text": [
      "Tfidf_train: (40000, 6828874)\n",
      "Tfidf_test: (9582, 6828874)\n"
     ]
    }
   ],
   "source": [
    "tv=TfidfVectorizer(min_df=0.0,max_df=1.0,use_idf=True,ngram_range=(1,3),sublinear_tf=True)\n",
    "tv_train_reviews=tv.fit_transform(train_reviews)\n",
    "tv_test_reviews=tv.transform(test_reviews)\n",
    "\n",
    "print('Tfidf_train:',tv_train_reviews.shape)\n",
    "print('Tfidf_test:',tv_test_reviews.shape)"
   ]
  },
  {
   "cell_type": "code",
   "execution_count": 9,
   "metadata": {},
   "outputs": [],
   "source": [
    "pickle.dump(tv.vocabulary_,open(\"tv.pkl\",\"wb\"))"
   ]
  },
  {
   "cell_type": "code",
   "execution_count": 19,
   "metadata": {},
   "outputs": [
    {
     "name": "stdout",
     "output_type": "stream",
     "text": [
      "BOW_cv_test: (15654, 6828874)\n"
     ]
    }
   ],
   "source": [
    "from sklearn.feature_extraction.text import TfidfTransformer\n",
    "transformer = TfidfTransformer()\n",
    "loaded_vec = TfidfVectorizer(decode_error=\"replace\",vocabulary=pickle.load(open(\"tv.pkl\", \"rb\")))\n",
    "#tv_train_reviews = transformer.fit_transform(loaded_vec.fit_transform(train_reviews))\n",
    "#tv_test_reviews = transformer.fit_transform(loaded_vec.fit_transform(test_reviews))\n",
    "tv_got_reviews = transformer.fit_transform(loaded_vec.fit_transform(got_reviews))\n",
    "print('BOW_cv_test:',tv_got_reviews.shape)"
   ]
  },
  {
   "cell_type": "markdown",
   "metadata": {},
   "source": [
    "## Machine Learning Classification (Supervised)"
   ]
  },
  {
   "cell_type": "code",
   "execution_count": 20,
   "metadata": {},
   "outputs": [],
   "source": [
    "from sklearn.linear_model import LogisticRegression,SGDClassifier\n",
    "from sklearn.svm import SVC\n",
    "from sklearn.naive_bayes import MultinomialNB\n",
    "from sklearn.metrics import classification_report,confusion_matrix"
   ]
  },
  {
   "cell_type": "markdown",
   "metadata": {},
   "source": [
    "### 1) Logistic Regression"
   ]
  },
  {
   "cell_type": "code",
   "execution_count": 21,
   "metadata": {},
   "outputs": [],
   "source": [
    "lr = LogisticRegression(penalty='l2',max_iter=300,C=1,random_state=32)"
   ]
  },
  {
   "cell_type": "markdown",
   "metadata": {},
   "source": [
    "#### For BOW"
   ]
  },
  {
   "cell_type": "code",
   "execution_count": 26,
   "metadata": {},
   "outputs": [
    {
     "data": {
      "text/plain": [
       "LogisticRegression(C=1, class_weight=None, dual=False, fit_intercept=True,\n",
       "          intercept_scaling=1, max_iter=300, multi_class='warn',\n",
       "          n_jobs=None, penalty='l2', random_state=32, solver='warn',\n",
       "          tol=0.0001, verbose=0, warm_start=False)"
      ]
     },
     "execution_count": 26,
     "metadata": {},
     "output_type": "execute_result"
    }
   ],
   "source": [
    "lr.fit(cv_train_reviews, train_sentiments)"
   ]
  },
  {
   "cell_type": "code",
   "execution_count": 27,
   "metadata": {},
   "outputs": [
    {
     "name": "stdout",
     "output_type": "stream",
     "text": [
      "              precision    recall  f1-score   support\n",
      "\n",
      "    Positive       0.79      0.58      0.67      4756\n",
      "    Negative       0.67      0.85      0.75      4826\n",
      "\n",
      "   micro avg       0.72      0.72      0.72      9582\n",
      "   macro avg       0.73      0.71      0.71      9582\n",
      "weighted avg       0.73      0.72      0.71      9582\n",
      "\n",
      "##############################################\n",
      "\n",
      "[[4090  736]\n",
      " [1991 2765]]\n"
     ]
    }
   ],
   "source": [
    "lr_bow_predict = lr.predict(cv_test_reviews)\n",
    "\n",
    "lr_bow_report = classification_report(test_sentiments, lr_bow_predict,target_names=['Positive','Negative'])\n",
    "print(lr_bow_report)\n",
    "print('##############################################\\n')\n",
    "lr_bow_cm = confusion_matrix(test_sentiments,lr_bow_predict,labels=[1,0])\n",
    "print(lr_bow_cm)"
   ]
  },
  {
   "cell_type": "code",
   "execution_count": 28,
   "metadata": {},
   "outputs": [
    {
     "name": "stdout",
     "output_type": "stream",
     "text": [
      "0.7154038822792737\n"
     ]
    }
   ],
   "source": [
    "\n",
    "val_pred = lr.predict(cv_test_reviews)\n",
    "print(accuracy_score(test_sentiments, val_pred))"
   ]
  },
  {
   "cell_type": "markdown",
   "metadata": {},
   "source": [
    "#### For TFIDF"
   ]
  },
  {
   "cell_type": "code",
   "execution_count": 22,
   "metadata": {},
   "outputs": [
    {
     "data": {
      "text/plain": [
       "LogisticRegression(C=1, class_weight=None, dual=False, fit_intercept=True,\n",
       "          intercept_scaling=1, max_iter=300, multi_class='warn',\n",
       "          n_jobs=None, penalty='l2', random_state=32, solver='warn',\n",
       "          tol=0.0001, verbose=0, warm_start=False)"
      ]
     },
     "execution_count": 22,
     "metadata": {},
     "output_type": "execute_result"
    }
   ],
   "source": [
    "lr.fit(tv_train_reviews, train_sentiments)"
   ]
  },
  {
   "cell_type": "code",
   "execution_count": 30,
   "metadata": {},
   "outputs": [
    {
     "name": "stdout",
     "output_type": "stream",
     "text": [
      "              precision    recall  f1-score   support\n",
      "\n",
      "    Positive       0.88      0.88      0.88      4756\n",
      "    Negative       0.88      0.89      0.88      4826\n",
      "\n",
      "   micro avg       0.88      0.88      0.88      9582\n",
      "   macro avg       0.88      0.88      0.88      9582\n",
      "weighted avg       0.88      0.88      0.88      9582\n",
      "\n",
      "##############################################\n",
      "\n",
      "[[4277  549]\n",
      " [ 583 4173]]\n"
     ]
    }
   ],
   "source": [
    "lr_tv_predict = lr.predict(tv_test_reviews)\n",
    "\n",
    "lr_tv_report = classification_report(test_sentiments, lr_tv_predict,target_names=['Positive','Negative'])\n",
    "print(lr_tv_report)\n",
    "print('##############################################\\n')\n",
    "lr_tv_cm = confusion_matrix(test_sentiments, lr_tv_predict, labels=[1,0])\n",
    "print(lr_tv_cm)"
   ]
  },
  {
   "cell_type": "code",
   "execution_count": 23,
   "metadata": {},
   "outputs": [
    {
     "name": "stdout",
     "output_type": "stream",
     "text": [
      "0.894385305781674\n"
     ]
    }
   ],
   "source": [
    "val_pred = lr.predict(tv_test_reviews)\n",
    "print(accuracy_score(test_sentiments, val_pred))"
   ]
  },
  {
   "cell_type": "code",
   "execution_count": 24,
   "metadata": {},
   "outputs": [
    {
     "name": "stdout",
     "output_type": "stream",
     "text": [
      "0.950625\n"
     ]
    }
   ],
   "source": [
    "val_pred = lr.predict(tv_train_reviews)\n",
    "print(accuracy_score(train_sentiments, val_pred))"
   ]
  },
  {
   "cell_type": "code",
   "execution_count": 33,
   "metadata": {},
   "outputs": [],
   "source": [
    "pickle.dump(lr, open('Logistic Regression Classifier', 'wb'))"
   ]
  },
  {
   "cell_type": "markdown",
   "metadata": {},
   "source": [
    "### 2) Stochastic Gradient Descent"
   ]
  },
  {
   "cell_type": "code",
   "execution_count": 48,
   "metadata": {},
   "outputs": [],
   "source": [
    "sgd = SGDClassifier(loss='hinge',n_iter=300,random_state=32)"
   ]
  },
  {
   "cell_type": "markdown",
   "metadata": {},
   "source": [
    "#### For BOW"
   ]
  },
  {
   "cell_type": "code",
   "execution_count": 49,
   "metadata": {},
   "outputs": [
    {
     "ename": "NameError",
     "evalue": "name 'cv_train_reviews' is not defined",
     "output_type": "error",
     "traceback": [
      "\u001b[1;31m---------------------------------------------------------------------------\u001b[0m",
      "\u001b[1;31mNameError\u001b[0m                                 Traceback (most recent call last)",
      "\u001b[1;32m<ipython-input-49-1226831fc313>\u001b[0m in \u001b[0;36m<module>\u001b[1;34m\u001b[0m\n\u001b[1;32m----> 1\u001b[1;33m \u001b[0msgd\u001b[0m\u001b[1;33m.\u001b[0m\u001b[0mfit\u001b[0m\u001b[1;33m(\u001b[0m\u001b[0mcv_train_reviews\u001b[0m\u001b[1;33m,\u001b[0m \u001b[0mtrain_sentiments\u001b[0m\u001b[1;33m)\u001b[0m\u001b[1;33m\u001b[0m\u001b[1;33m\u001b[0m\u001b[0m\n\u001b[0m",
      "\u001b[1;31mNameError\u001b[0m: name 'cv_train_reviews' is not defined"
     ]
    }
   ],
   "source": [
    "sgd.fit(cv_train_reviews, train_sentiments)"
   ]
  },
  {
   "cell_type": "code",
   "execution_count": 36,
   "metadata": {},
   "outputs": [
    {
     "name": "stdout",
     "output_type": "stream",
     "text": [
      "              precision    recall  f1-score   support\n",
      "\n",
      "    Positive       0.80      0.51      0.62      4756\n",
      "    Negative       0.64      0.88      0.74      4826\n",
      "\n",
      "   micro avg       0.69      0.69      0.69      9582\n",
      "   macro avg       0.72      0.69      0.68      9582\n",
      "weighted avg       0.72      0.69      0.68      9582\n",
      "\n",
      "##############################################\n",
      "\n",
      "[[4226  600]\n",
      " [2333 2423]]\n"
     ]
    }
   ],
   "source": [
    "sgd_bow_predict = sgd.predict(cv_test_reviews)\n",
    "\n",
    "sgd_bow_report = classification_report(test_sentiments, sgd_bow_predict,target_names=['Positive','Negative'])\n",
    "print(sgd_bow_report)\n",
    "print('##############################################\\n')\n",
    "sgd_bow_cm = confusion_matrix(test_sentiments, sgd_bow_predict,labels=[1,0])\n",
    "print(sgd_bow_cm)"
   ]
  },
  {
   "cell_type": "code",
   "execution_count": 37,
   "metadata": {},
   "outputs": [
    {
     "name": "stdout",
     "output_type": "stream",
     "text": [
      "0.6939052389897725\n"
     ]
    }
   ],
   "source": [
    "val_pred = sgd.predict(cv_test_reviews)\n",
    "print(accuracy_score(test_sentiments, val_pred))"
   ]
  },
  {
   "cell_type": "markdown",
   "metadata": {},
   "source": [
    "#### For TFIDF"
   ]
  },
  {
   "cell_type": "code",
   "execution_count": 50,
   "metadata": {},
   "outputs": [
    {
     "data": {
      "text/plain": [
       "SGDClassifier(alpha=0.0001, average=False, class_weight=None,\n",
       "       early_stopping=False, epsilon=0.1, eta0=0.0, fit_intercept=True,\n",
       "       l1_ratio=0.15, learning_rate='optimal', loss='hinge', max_iter=None,\n",
       "       n_iter=300, n_iter_no_change=5, n_jobs=None, penalty='l2',\n",
       "       power_t=0.5, random_state=32, shuffle=True, tol=None,\n",
       "       validation_fraction=0.1, verbose=0, warm_start=False)"
      ]
     },
     "execution_count": 50,
     "metadata": {},
     "output_type": "execute_result"
    }
   ],
   "source": [
    "sgd.fit(tv_train_reviews, train_sentiments)"
   ]
  },
  {
   "cell_type": "code",
   "execution_count": 39,
   "metadata": {},
   "outputs": [
    {
     "name": "stdout",
     "output_type": "stream",
     "text": [
      "              precision    recall  f1-score   support\n",
      "\n",
      "    Positive       0.89      0.87      0.88      4756\n",
      "    Negative       0.87      0.89      0.88      4826\n",
      "\n",
      "   micro avg       0.88      0.88      0.88      9582\n",
      "   macro avg       0.88      0.88      0.88      9582\n",
      "weighted avg       0.88      0.88      0.88      9582\n",
      "\n",
      "##############################################\n",
      "\n",
      "[[4309  517]\n",
      " [ 620 4136]]\n"
     ]
    }
   ],
   "source": [
    "sgd_tv_predict = sgd.predict(tv_test_reviews)\n",
    "\n",
    "sgd_tv_report = classification_report(test_sentiments, sgd_tv_predict, target_names=['Positive','Negative'])\n",
    "print(sgd_tv_report)\n",
    "print('##############################################\\n')\n",
    "sgd_tv_cm = confusion_matrix(test_sentiments, sgd_tv_predict, labels=[1,0])\n",
    "print(sgd_tv_cm)"
   ]
  },
  {
   "cell_type": "code",
   "execution_count": 51,
   "metadata": {},
   "outputs": [
    {
     "name": "stdout",
     "output_type": "stream",
     "text": [
      "0.8910457107075767\n"
     ]
    }
   ],
   "source": [
    "val_pred = sgd.predict(tv_test_reviews)\n",
    "print(accuracy_score(test_sentiments, val_pred))"
   ]
  },
  {
   "cell_type": "code",
   "execution_count": 52,
   "metadata": {},
   "outputs": [
    {
     "name": "stdout",
     "output_type": "stream",
     "text": [
      "0.9405\n"
     ]
    }
   ],
   "source": [
    "val_pred = sgd.predict(tv_train_reviews)\n",
    "print(accuracy_score(train_sentiments, val_pred))"
   ]
  },
  {
   "cell_type": "code",
   "execution_count": 42,
   "metadata": {},
   "outputs": [],
   "source": [
    "pickle.dump(sgd, open('SGD Classifier', 'wb'))"
   ]
  },
  {
   "cell_type": "markdown",
   "metadata": {},
   "source": [
    "### 3) Naive Bayes"
   ]
  },
  {
   "cell_type": "code",
   "execution_count": 28,
   "metadata": {},
   "outputs": [],
   "source": [
    "nb = MultinomialNB(alpha=1, fit_prior=True)"
   ]
  },
  {
   "cell_type": "markdown",
   "metadata": {},
   "source": [
    "#### BOW"
   ]
  },
  {
   "cell_type": "code",
   "execution_count": 29,
   "metadata": {},
   "outputs": [
    {
     "ename": "NameError",
     "evalue": "name 'cv_train_reviews' is not defined",
     "output_type": "error",
     "traceback": [
      "\u001b[1;31m---------------------------------------------------------------------------\u001b[0m",
      "\u001b[1;31mNameError\u001b[0m                                 Traceback (most recent call last)",
      "\u001b[1;32m<ipython-input-29-99e75f81ddbe>\u001b[0m in \u001b[0;36m<module>\u001b[1;34m\u001b[0m\n\u001b[1;32m----> 1\u001b[1;33m \u001b[0mnb\u001b[0m\u001b[1;33m.\u001b[0m\u001b[0mfit\u001b[0m\u001b[1;33m(\u001b[0m\u001b[0mcv_train_reviews\u001b[0m\u001b[1;33m,\u001b[0m \u001b[0mtrain_sentiments\u001b[0m\u001b[1;33m)\u001b[0m\u001b[1;33m\u001b[0m\u001b[1;33m\u001b[0m\u001b[0m\n\u001b[0m",
      "\u001b[1;31mNameError\u001b[0m: name 'cv_train_reviews' is not defined"
     ]
    }
   ],
   "source": [
    "nb.fit(cv_train_reviews, train_sentiments)"
   ]
  },
  {
   "cell_type": "code",
   "execution_count": 45,
   "metadata": {},
   "outputs": [
    {
     "name": "stdout",
     "output_type": "stream",
     "text": [
      "              precision    recall  f1-score   support\n",
      "\n",
      "    Positive       0.73      0.76      0.74      4756\n",
      "    Negative       0.75      0.73      0.74      4826\n",
      "\n",
      "   micro avg       0.74      0.74      0.74      9582\n",
      "   macro avg       0.74      0.74      0.74      9582\n",
      "weighted avg       0.74      0.74      0.74      9582\n",
      "\n",
      "##############################################\n",
      "\n",
      "[[3501 1325]\n",
      " [1151 3605]]\n"
     ]
    }
   ],
   "source": [
    "nb_bow_predict = nb.predict(cv_test_reviews)\n",
    "\n",
    "nb_bow_report = classification_report(test_sentiments, nb_bow_predict,target_names=['Positive','Negative'])\n",
    "print(nb_bow_report)\n",
    "print('##############################################\\n')\n",
    "nb_bow_cm = confusion_matrix(test_sentiments, nb_bow_predict,labels=[1,0])\n",
    "print(nb_bow_cm)"
   ]
  },
  {
   "cell_type": "code",
   "execution_count": 46,
   "metadata": {},
   "outputs": [
    {
     "name": "stdout",
     "output_type": "stream",
     "text": [
      "0.7415988311417241\n"
     ]
    }
   ],
   "source": [
    "val_pred = nb.predict(cv_test_reviews)\n",
    "print(accuracy_score(test_sentiments, val_pred))"
   ]
  },
  {
   "cell_type": "markdown",
   "metadata": {},
   "source": [
    "#### TF IDF"
   ]
  },
  {
   "cell_type": "code",
   "execution_count": 30,
   "metadata": {},
   "outputs": [
    {
     "data": {
      "text/plain": [
       "MultinomialNB(alpha=1, class_prior=None, fit_prior=True)"
      ]
     },
     "execution_count": 30,
     "metadata": {},
     "output_type": "execute_result"
    }
   ],
   "source": [
    "nb.fit(tv_train_reviews, train_sentiments)"
   ]
  },
  {
   "cell_type": "code",
   "execution_count": 48,
   "metadata": {},
   "outputs": [
    {
     "name": "stdout",
     "output_type": "stream",
     "text": [
      "              precision    recall  f1-score   support\n",
      "\n",
      "    Positive       0.88      0.89      0.89      4756\n",
      "    Negative       0.89      0.88      0.89      4826\n",
      "\n",
      "   micro avg       0.89      0.89      0.89      9582\n",
      "   macro avg       0.89      0.89      0.89      9582\n",
      "weighted avg       0.89      0.89      0.89      9582\n",
      "\n",
      "##############################################\n",
      "\n",
      "[[4264  562]\n",
      " [ 524 4232]]\n"
     ]
    }
   ],
   "source": [
    "nb_tv_predict = nb.predict(tv_test_reviews)\n",
    "\n",
    "nb_tv_report = classification_report(test_sentiments, nb_tv_predict, target_names=['Positive','Negative'])\n",
    "print(nb_tv_report)\n",
    "print('##############################################\\n')\n",
    "nb_tv_cm = confusion_matrix(test_sentiments, nb_tv_predict, labels=[1,0])\n",
    "print(nb_tv_cm)"
   ]
  },
  {
   "cell_type": "code",
   "execution_count": 32,
   "metadata": {},
   "outputs": [
    {
     "name": "stdout",
     "output_type": "stream",
     "text": [
      "0.9352\n"
     ]
    }
   ],
   "source": [
    "val_pred = nb.predict(tv_train_reviews)\n",
    "print(accuracy_score(train_sentiments, val_pred))"
   ]
  },
  {
   "cell_type": "code",
   "execution_count": 31,
   "metadata": {},
   "outputs": [
    {
     "name": "stdout",
     "output_type": "stream",
     "text": [
      "0.8521185556251305\n"
     ]
    }
   ],
   "source": [
    "val_pred = nb.predict(tv_test_reviews)\n",
    "print(accuracy_score(test_sentiments, val_pred))"
   ]
  },
  {
   "cell_type": "code",
   "execution_count": 50,
   "metadata": {},
   "outputs": [],
   "source": [
    "pickle.dump(nb, open('Naive Bayes Classifier', 'wb'))"
   ]
  },
  {
   "cell_type": "markdown",
   "metadata": {},
   "source": [
    "### Random Forest"
   ]
  },
  {
   "cell_type": "code",
   "execution_count": 33,
   "metadata": {},
   "outputs": [],
   "source": [
    "# Initialize a Random Forest classifier with 100 trees\n",
    "from sklearn.ensemble import RandomForestClassifier\n",
    "rf = RandomForestClassifier(max_depth = 30, n_estimators = 200, random_state = 1)"
   ]
  },
  {
   "cell_type": "markdown",
   "metadata": {},
   "source": [
    "#### For BOW"
   ]
  },
  {
   "cell_type": "code",
   "execution_count": 52,
   "metadata": {},
   "outputs": [
    {
     "data": {
      "text/plain": [
       "RandomForestClassifier(bootstrap=True, class_weight=None, criterion='gini',\n",
       "            max_depth=30, max_features='auto', max_leaf_nodes=None,\n",
       "            min_impurity_decrease=0.0, min_impurity_split=None,\n",
       "            min_samples_leaf=1, min_samples_split=2,\n",
       "            min_weight_fraction_leaf=0.0, n_estimators=200, n_jobs=None,\n",
       "            oob_score=False, random_state=1, verbose=0, warm_start=False)"
      ]
     },
     "execution_count": 52,
     "metadata": {},
     "output_type": "execute_result"
    }
   ],
   "source": [
    "rf.fit(cv_train_reviews, train_sentiments)"
   ]
  },
  {
   "cell_type": "code",
   "execution_count": 53,
   "metadata": {},
   "outputs": [
    {
     "name": "stdout",
     "output_type": "stream",
     "text": [
      "              precision    recall  f1-score   support\n",
      "\n",
      "    Positive       0.56      0.01      0.02      4756\n",
      "    Negative       0.50      0.99      0.67      4826\n",
      "\n",
      "   micro avg       0.50      0.50      0.50      9582\n",
      "   macro avg       0.53      0.50      0.35      9582\n",
      "weighted avg       0.53      0.50      0.35      9582\n",
      "\n",
      "##############################################\n",
      "\n",
      "[[4780   46]\n",
      " [4698   58]]\n"
     ]
    }
   ],
   "source": [
    "rf_cv_predict = rf.predict(cv_test_reviews)\n",
    "\n",
    "rf_cv_report = classification_report(test_sentiments, rf_cv_predict, target_names=['Positive','Negative'])\n",
    "print(rf_cv_report)\n",
    "print('##############################################\\n')\n",
    "rf_cv_cm = confusion_matrix(test_sentiments, rf_cv_predict, labels=[1,0])\n",
    "print(rf_cv_cm)"
   ]
  },
  {
   "cell_type": "code",
   "execution_count": 54,
   "metadata": {},
   "outputs": [
    {
     "data": {
      "text/plain": [
       "0.5049050302650804"
      ]
     },
     "execution_count": 54,
     "metadata": {},
     "output_type": "execute_result"
    }
   ],
   "source": [
    "# evaluate accuracy\n",
    "yPredRf = rf.predict(cv_test_reviews)\n",
    "rfAcc = accuracy_score(test_sentiments, yPredRf)\n",
    "rfAcc"
   ]
  },
  {
   "cell_type": "markdown",
   "metadata": {},
   "source": [
    "#### For TFIDF"
   ]
  },
  {
   "cell_type": "code",
   "execution_count": 41,
   "metadata": {},
   "outputs": [
    {
     "data": {
      "text/plain": [
       "RandomForestClassifier(bootstrap=True, class_weight=None, criterion='gini',\n",
       "            max_depth=30, max_features='auto', max_leaf_nodes=None,\n",
       "            min_impurity_decrease=0.0, min_impurity_split=None,\n",
       "            min_samples_leaf=1, min_samples_split=2,\n",
       "            min_weight_fraction_leaf=0.0, n_estimators=200, n_jobs=None,\n",
       "            oob_score=False, random_state=1, verbose=0, warm_start=False)"
      ]
     },
     "execution_count": 41,
     "metadata": {},
     "output_type": "execute_result"
    }
   ],
   "source": [
    "rf.fit(tv_train_reviews, train_sentiments)"
   ]
  },
  {
   "cell_type": "code",
   "execution_count": 56,
   "metadata": {},
   "outputs": [
    {
     "name": "stdout",
     "output_type": "stream",
     "text": [
      "              precision    recall  f1-score   support\n",
      "\n",
      "    Positive       0.86      0.80      0.83      4756\n",
      "    Negative       0.82      0.87      0.85      4826\n",
      "\n",
      "   micro avg       0.84      0.84      0.84      9582\n",
      "   macro avg       0.84      0.84      0.84      9582\n",
      "weighted avg       0.84      0.84      0.84      9582\n",
      "\n",
      "##############################################\n",
      "\n",
      "[[4220  606]\n",
      " [ 936 3820]]\n"
     ]
    }
   ],
   "source": [
    "rf_tv_predict = rf.predict(tv_test_reviews)\n",
    "\n",
    "rf_tv_report = classification_report(test_sentiments, rf_tv_predict, target_names=['Positive','Negative'])\n",
    "print(rf_tv_report)\n",
    "print('##############################################\\n')\n",
    "rf_tv_cm = confusion_matrix(test_sentiments, rf_tv_predict, labels=[1,0])\n",
    "print(rf_tv_cm)"
   ]
  },
  {
   "cell_type": "code",
   "execution_count": 42,
   "metadata": {},
   "outputs": [
    {
     "data": {
      "text/plain": [
       "0.9263"
      ]
     },
     "execution_count": 42,
     "metadata": {},
     "output_type": "execute_result"
    }
   ],
   "source": [
    "# evaluate accuracy\n",
    "yPredRf = rf.predict(tv_train_reviews)\n",
    "rfAcc = accuracy_score(train_sentiments, yPredRf)\n",
    "rfAcc"
   ]
  },
  {
   "cell_type": "code",
   "execution_count": 43,
   "metadata": {},
   "outputs": [
    {
     "data": {
      "text/plain": [
       "0.8266541431851389"
      ]
     },
     "execution_count": 43,
     "metadata": {},
     "output_type": "execute_result"
    }
   ],
   "source": [
    "# evaluate accuracy\n",
    "yPredRf = rf.predict(tv_test_reviews)\n",
    "rfAcc = accuracy_score(test_sentiments, yPredRf)\n",
    "rfAcc"
   ]
  },
  {
   "cell_type": "code",
   "execution_count": 58,
   "metadata": {},
   "outputs": [],
   "source": [
    "pickle.dump(rf, open('Random Forest Classifier', 'wb'))"
   ]
  },
  {
   "cell_type": "markdown",
   "metadata": {},
   "source": [
    "### KNN Classifier"
   ]
  },
  {
   "cell_type": "code",
   "execution_count": 35,
   "metadata": {},
   "outputs": [],
   "source": [
    "# run KNN\n",
    "from sklearn.neighbors import KNeighborsClassifier\n",
    "knn = KNeighborsClassifier(n_neighbors = 103)"
   ]
  },
  {
   "cell_type": "code",
   "execution_count": 36,
   "metadata": {},
   "outputs": [
    {
     "data": {
      "text/plain": [
       "KNeighborsClassifier(algorithm='auto', leaf_size=30, metric='minkowski',\n",
       "           metric_params=None, n_jobs=None, n_neighbors=103, p=2,\n",
       "           weights='uniform')"
      ]
     },
     "execution_count": 36,
     "metadata": {},
     "output_type": "execute_result"
    }
   ],
   "source": [
    "knn.fit(tv_train_reviews, train_sentiments)"
   ]
  },
  {
   "cell_type": "code",
   "execution_count": 90,
   "metadata": {},
   "outputs": [
    {
     "name": "stdout",
     "output_type": "stream",
     "text": [
      "              precision    recall  f1-score   support\n",
      "\n",
      "    Positive       0.87      0.81      0.84      4756\n",
      "    Negative       0.83      0.89      0.85      4826\n",
      "\n",
      "   micro avg       0.85      0.85      0.85      9582\n",
      "   macro avg       0.85      0.85      0.85      9582\n",
      "weighted avg       0.85      0.85      0.85      9582\n",
      "\n",
      "##############################################\n",
      "\n",
      "[[4220  606]\n",
      " [ 936 3820]]\n"
     ]
    }
   ],
   "source": [
    "knn_tv_predict = knn.predict(tv_test_reviews)\n",
    "\n",
    "knn_tv_report = classification_report(test_sentiments, knn_tv_predict, target_names=['Positive','Negative'])\n",
    "print(knn_tv_report)\n",
    "print('##############################################\\n')\n",
    "knn_tv_cm = confusion_matrix(test_sentiments, rf_tv_predict, labels=[1,0])\n",
    "print(knn_tv_cm)"
   ]
  },
  {
   "cell_type": "code",
   "execution_count": 37,
   "metadata": {},
   "outputs": [
    {
     "data": {
      "text/plain": [
       "0.7724900855771237"
      ]
     },
     "execution_count": 37,
     "metadata": {},
     "output_type": "execute_result"
    }
   ],
   "source": [
    "# evaluate accuracy\n",
    "yPredknn = knn.predict(tv_test_reviews)\n",
    "knnAcc = accuracy_score(test_sentiments, yPredknn )\n",
    "knnAcc"
   ]
  },
  {
   "cell_type": "code",
   "execution_count": 38,
   "metadata": {},
   "outputs": [
    {
     "data": {
      "text/plain": [
       "0.783225"
      ]
     },
     "execution_count": 38,
     "metadata": {},
     "output_type": "execute_result"
    }
   ],
   "source": [
    "# evaluate accuracy\n",
    "yPredknn = knn.predict(tv_train_reviews)\n",
    "knnAcc = accuracy_score(train_sentiments, yPredknn )\n",
    "knnAcc"
   ]
  },
  {
   "cell_type": "markdown",
   "metadata": {},
   "source": [
    "### Gradient Boosting Classifier"
   ]
  },
  {
   "cell_type": "code",
   "execution_count": 54,
   "metadata": {},
   "outputs": [],
   "source": [
    "from sklearn.ensemble import GradientBoostingClassifier\n",
    "gb = GradientBoostingClassifier(loss='deviance', n_estimators=50, verbose=1)"
   ]
  },
  {
   "cell_type": "code",
   "execution_count": 55,
   "metadata": {},
   "outputs": [
    {
     "name": "stdout",
     "output_type": "stream",
     "text": [
      "      Iter       Train Loss   Remaining Time \n",
      "         1           1.3535           11.76m\n",
      "         2           1.3267           11.42m\n",
      "         3           1.3043           11.15m\n",
      "         4           1.2848           10.90m\n",
      "         5           1.2679           10.65m\n",
      "         6           1.2525           10.41m\n",
      "         7           1.2388           10.16m\n",
      "         8           1.2257            9.92m\n",
      "         9           1.2138            9.79m\n",
      "        10           1.2025            9.66m\n",
      "        20           1.1181            7.22m\n",
      "        30           1.0615            4.80m\n",
      "        40           1.0179            2.39m\n",
      "        50           0.9827            0.00s\n"
     ]
    },
    {
     "data": {
      "text/plain": [
       "GradientBoostingClassifier(criterion='friedman_mse', init=None,\n",
       "              learning_rate=0.1, loss='deviance', max_depth=3,\n",
       "              max_features=None, max_leaf_nodes=None,\n",
       "              min_impurity_decrease=0.0, min_impurity_split=None,\n",
       "              min_samples_leaf=1, min_samples_split=2,\n",
       "              min_weight_fraction_leaf=0.0, n_estimators=50,\n",
       "              n_iter_no_change=None, presort='auto', random_state=None,\n",
       "              subsample=1.0, tol=0.0001, validation_fraction=0.1,\n",
       "              verbose=1, warm_start=False)"
      ]
     },
     "execution_count": 55,
     "metadata": {},
     "output_type": "execute_result"
    }
   ],
   "source": [
    "gb.fit(tv_train_reviews, train_sentiments)"
   ]
  },
  {
   "cell_type": "code",
   "execution_count": 60,
   "metadata": {},
   "outputs": [
    {
     "data": {
      "text/plain": [
       "0.7824045084533501"
      ]
     },
     "execution_count": 60,
     "metadata": {},
     "output_type": "execute_result"
    }
   ],
   "source": [
    "# evaluate accuracy\n",
    "yPredgb = gb.predict(tv_test_reviews)\n",
    "gbAcc = accuracy_score(test_sentiments, yPredgb )\n",
    "gbAcc"
   ]
  },
  {
   "cell_type": "code",
   "execution_count": 61,
   "metadata": {},
   "outputs": [
    {
     "data": {
      "text/plain": [
       "0.788275"
      ]
     },
     "execution_count": 61,
     "metadata": {},
     "output_type": "execute_result"
    }
   ],
   "source": [
    "# evaluate accuracy\n",
    "yPredgb = gb.predict(tv_train_reviews)\n",
    "gbAcc = accuracy_score(train_sentiments, yPredgb )\n",
    "gbAcc"
   ]
  },
  {
   "cell_type": "markdown",
   "metadata": {},
   "source": [
    "## GOT"
   ]
  },
  {
   "cell_type": "code",
   "execution_count": 11,
   "metadata": {},
   "outputs": [],
   "source": [
    "got = pd.read_csv('GOT', index_col=[0])"
   ]
  },
  {
   "cell_type": "code",
   "execution_count": 12,
   "metadata": {},
   "outputs": [
    {
     "data": {
      "text/plain": [
       "review_rating    0\n",
       "review_text      9\n",
       "review_title     0\n",
       "dtype: int64"
      ]
     },
     "execution_count": 12,
     "metadata": {},
     "output_type": "execute_result"
    }
   ],
   "source": [
    "got.isna().sum()"
   ]
  },
  {
   "cell_type": "code",
   "execution_count": 13,
   "metadata": {},
   "outputs": [],
   "source": [
    "got.dropna(inplace = True)"
   ]
  },
  {
   "cell_type": "code",
   "execution_count": 14,
   "metadata": {},
   "outputs": [
    {
     "data": {
      "text/plain": [
       "review_rating    0\n",
       "review_text      0\n",
       "review_title     0\n",
       "dtype: int64"
      ]
     },
     "execution_count": 14,
     "metadata": {},
     "output_type": "execute_result"
    }
   ],
   "source": [
    "got.isna().sum()"
   ]
  },
  {
   "cell_type": "code",
   "execution_count": 15,
   "metadata": {},
   "outputs": [
    {
     "data": {
      "text/html": [
       "<div>\n",
       "<style scoped>\n",
       "    .dataframe tbody tr th:only-of-type {\n",
       "        vertical-align: middle;\n",
       "    }\n",
       "\n",
       "    .dataframe tbody tr th {\n",
       "        vertical-align: top;\n",
       "    }\n",
       "\n",
       "    .dataframe thead th {\n",
       "        text-align: right;\n",
       "    }\n",
       "</style>\n",
       "<table border=\"1\" class=\"dataframe\">\n",
       "  <thead>\n",
       "    <tr style=\"text-align: right;\">\n",
       "      <th></th>\n",
       "      <th>review_rating</th>\n",
       "      <th>review_text</th>\n",
       "      <th>review_title</th>\n",
       "    </tr>\n",
       "  </thead>\n",
       "  <tbody>\n",
       "    <tr>\n",
       "      <th>0</th>\n",
       "      <td>1</td>\n",
       "      <td>open credit chang credit nice radic chang icon...</td>\n",
       "      <td>We warmed up!</td>\n",
       "    </tr>\n",
       "    <tr>\n",
       "      <th>2</th>\n",
       "      <td>1</td>\n",
       "      <td>bad becom blank made got got lost sad ran book...</td>\n",
       "      <td>You can tell they have run out of books</td>\n",
       "    </tr>\n",
       "    <tr>\n",
       "      <th>4</th>\n",
       "      <td>1</td>\n",
       "      <td>rather slow episod build upcom war episod left...</td>\n",
       "      <td>I like GOT, but....</td>\n",
       "    </tr>\n",
       "    <tr>\n",
       "      <th>7</th>\n",
       "      <td>0</td>\n",
       "      <td>filler episod far stori goe thing signific plo...</td>\n",
       "      <td>Underwhelming</td>\n",
       "    </tr>\n",
       "    <tr>\n",
       "      <th>8</th>\n",
       "      <td>1</td>\n",
       "      <td>honour attend first episod last season belfast...</td>\n",
       "      <td>Best season premiere!</td>\n",
       "    </tr>\n",
       "  </tbody>\n",
       "</table>\n",
       "</div>"
      ],
      "text/plain": [
       "   review_rating                                        review_text  \\\n",
       "0              1  open credit chang credit nice radic chang icon...   \n",
       "2              1  bad becom blank made got got lost sad ran book...   \n",
       "4              1  rather slow episod build upcom war episod left...   \n",
       "7              0  filler episod far stori goe thing signific plo...   \n",
       "8              1  honour attend first episod last season belfast...   \n",
       "\n",
       "                               review_title  \n",
       "0                             We warmed up!  \n",
       "2   You can tell they have run out of books  \n",
       "4                       I like GOT, but....  \n",
       "7                             Underwhelming  \n",
       "8                     Best season premiere!  "
      ]
     },
     "execution_count": 15,
     "metadata": {},
     "output_type": "execute_result"
    }
   ],
   "source": [
    "got.head()"
   ]
  },
  {
   "cell_type": "code",
   "execution_count": 16,
   "metadata": {},
   "outputs": [
    {
     "data": {
      "text/plain": [
       "(15654, 3)"
      ]
     },
     "execution_count": 16,
     "metadata": {},
     "output_type": "execute_result"
    }
   ],
   "source": [
    "got.shape"
   ]
  },
  {
   "cell_type": "code",
   "execution_count": 17,
   "metadata": {},
   "outputs": [],
   "source": [
    "got_reviews = got['review_text']\n",
    "got_sentiments = got['review_rating']"
   ]
  },
  {
   "cell_type": "code",
   "execution_count": 145,
   "metadata": {},
   "outputs": [
    {
     "data": {
      "text/plain": [
       "0"
      ]
     },
     "execution_count": 145,
     "metadata": {},
     "output_type": "execute_result"
    }
   ],
   "source": [
    "got_reviews.isna().sum()"
   ]
  },
  {
   "cell_type": "code",
   "execution_count": 146,
   "metadata": {},
   "outputs": [
    {
     "name": "stdout",
     "output_type": "stream",
     "text": [
      "Tfidf shape: (15654, 921958)\n"
     ]
    }
   ],
   "source": [
    "tv=TfidfVectorizer(min_df=0.0,max_df=1.0,use_idf=True,ngram_range=(1,3),sublinear_tf=True)\n",
    "tv_reviews=tv.fit_transform(got_reviews)\n",
    "tv_reviews=tv.transform(got_reviews)\n",
    "\n",
    "print('Tfidf shape:',tv_reviews.shape)"
   ]
  },
  {
   "cell_type": "markdown",
   "metadata": {},
   "source": [
    "## GOT Accuracy"
   ]
  },
  {
   "cell_type": "code",
   "execution_count": 26,
   "metadata": {},
   "outputs": [
    {
     "name": "stdout",
     "output_type": "stream",
     "text": [
      "0.7697074230228695\n"
     ]
    }
   ],
   "source": [
    "lr_pred = lr.predict(tv_got_reviews)\n",
    "print(accuracy_score(got_sentiments, lr_pred))"
   ]
  },
  {
   "cell_type": "code",
   "execution_count": 53,
   "metadata": {},
   "outputs": [
    {
     "name": "stdout",
     "output_type": "stream",
     "text": [
      "0.7635109237255654\n"
     ]
    }
   ],
   "source": [
    "sgd_pred = sgd.predict(tv_got_reviews)\n",
    "print(accuracy_score(got_sentiments, sgd_pred))"
   ]
  },
  {
   "cell_type": "code",
   "execution_count": 39,
   "metadata": {},
   "outputs": [
    {
     "name": "stdout",
     "output_type": "stream",
     "text": [
      "0.7366807205825987\n"
     ]
    }
   ],
   "source": [
    "nb_pred = nb.predict(tv_got_reviews)\n",
    "print(accuracy_score(got_sentiments, nb_pred))"
   ]
  },
  {
   "cell_type": "code",
   "execution_count": 44,
   "metadata": {},
   "outputs": [
    {
     "name": "stdout",
     "output_type": "stream",
     "text": [
      "0.5996550402453047\n"
     ]
    }
   ],
   "source": [
    "rf_pred = rf.predict(tv_got_reviews)\n",
    "print(accuracy_score(got_sentiments, rf_pred))"
   ]
  },
  {
   "cell_type": "code",
   "execution_count": 40,
   "metadata": {},
   "outputs": [
    {
     "name": "stdout",
     "output_type": "stream",
     "text": [
      "0.6908138494953366\n"
     ]
    }
   ],
   "source": [
    "knn_pred = knn.predict(tv_got_reviews)\n",
    "print(accuracy_score(got_sentiments, knn_pred))"
   ]
  },
  {
   "cell_type": "code",
   "execution_count": 59,
   "metadata": {},
   "outputs": [
    {
     "name": "stdout",
     "output_type": "stream",
     "text": [
      "0.6056598952344449\n"
     ]
    }
   ],
   "source": [
    "gb_pred = gb.predict(tv_got_reviews)\n",
    "print(accuracy_score(got_sentiments, gb_pred))"
   ]
  }
 ],
 "metadata": {
  "kernelspec": {
   "display_name": "Python 3",
   "language": "python",
   "name": "python3"
  },
  "language_info": {
   "codemirror_mode": {
    "name": "ipython",
    "version": 3
   },
   "file_extension": ".py",
   "mimetype": "text/x-python",
   "name": "python",
   "nbconvert_exporter": "python",
   "pygments_lexer": "ipython3",
   "version": "3.6.7"
  }
 },
 "nbformat": 4,
 "nbformat_minor": 2
}
